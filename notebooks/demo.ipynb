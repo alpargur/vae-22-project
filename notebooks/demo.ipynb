{
 "cells": [
  {
   "cell_type": "markdown",
   "metadata": {},
   "source": [
    "# Virtual Acoustic Environments Spring 2022\n",
    "## Project 9: Headphone Equalization\n",
    "**Author: Alpar Gür**\n",
    "\n",
    "**Supervisor: David Bau**\n",
    "\n",
    "**Professor: Christoph Pörschmann**\n",
    "\n",
    "---"
   ]
  },
  {
   "cell_type": "markdown",
   "metadata": {},
   "source": [
    "**Table of Contents**\n",
    "1. Record Excitation Signal (100 Hz - 20 kHz ?, 48kHz sampling rate)\n",
    "2. Deconvolution\n",
    "    - Zero padding of x(t) and y(t)\n",
    "    - Transform functions to frequency domain\n",
    "    - Divide spectra to obain H(f)\n",
    "    - Transform H(f) to h(t)\n",
    "    - Apply a window to get h(t) in correct length\n"
   ]
  },
  {
   "cell_type": "code",
   "execution_count": 26,
   "metadata": {},
   "outputs": [],
   "source": [
    "# load packages\n",
    "import numpy as np\n",
    "import sounddevice as sd\n",
    "import soundfile as sf\n",
    "import pyfar as pf\n",
    "\n",
    "from numpy import ndarray"
   ]
  },
  {
   "cell_type": "markdown",
   "metadata": {},
   "source": [
    "### Record Excitation Signal"
   ]
  },
  {
   "cell_type": "code",
   "execution_count": null,
   "metadata": {},
   "outputs": [],
   "source": [
    "def convert_audio_to_numpy_array(recording_path: str):\n",
    "    data, samplerate = sf.read(recording_path, dtype='float32')\n",
    "    return data, samplerate\n",
    "    \n",
    "def record_sound(duration: int, samplerate: int, channel_count: int):\n",
    "    return sd.rec(int(duration * samplerate), samplerate=samplerate, channels=channel_count)\n",
    "\n",
    "def play_sound(recording: ndarray, samplerate: int):\n",
    "    sd.play(recording, samplerate)\n",
    "\n",
    "def play_and_record(recording, samplerate, channels):\n",
    "    return sd.playrec(recording, samplerate, channels)"
   ]
  },
  {
   "cell_type": "markdown",
   "metadata": {},
   "source": [
    "Define Global Parameters"
   ]
  },
  {
   "cell_type": "code",
   "execution_count": null,
   "metadata": {},
   "outputs": [],
   "source": [
    "duration = 5 # in seconds\n",
    "samplerate = 4800 # sampling frequnecy\n",
    "channels = 2"
   ]
  },
  {
   "cell_type": "code",
   "execution_count": 24,
   "metadata": {},
   "outputs": [],
   "source": [
    "# record live sound\n",
    "recording = record_sound(duration, samplerate, channels)"
   ]
  },
  {
   "cell_type": "code",
   "execution_count": 25,
   "metadata": {},
   "outputs": [],
   "source": [
    "play_sound(recording, samplerate)"
   ]
  },
  {
   "cell_type": "code",
   "execution_count": null,
   "metadata": {},
   "outputs": [],
   "source": [
    "# convert an audio file into ndarray\n",
    "recording_2, samplerate_2 = convert_audio_to_numpy_array(\"../sounds/VAE_KU100_excitation.wav\")\n",
    "# play signal\n",
    "sd.play(recording_2, samplerate_2)"
   ]
  },
  {
   "cell_type": "markdown",
   "metadata": {},
   "source": [
    "Import data Spacially Oriented Format for Acoustics (SOFA)\n"
   ]
  },
  {
   "cell_type": "code",
   "execution_count": 30,
   "metadata": {},
   "outputs": [
    {
     "name": "stdout",
     "output_type": "stream",
     "text": [
      "SOFA file contained custom entries\n",
      "----------------------------------\n",
      "GLOBAL_Author, GLOBAL_ListenerDescription, GLOBAL_ReceiverDescription, GLOBAL_SourceDescription, GLOBAL_RoomDescription\n"
     ]
    },
    {
     "data": {
      "text/plain": [
       "(time domain energy Signal:\n",
       " (360, 2) channels with 128 samples @ 48000.0 Hz sampling rate and none FFT normalization,\n",
       " 1D Coordinates object with 360 points of cshape (360,)\n",
       " domain: sph, convention: top_elev, unit: deg\n",
       " coordinates: azimuth in degrees, elevation in degrees, radius in meters\n",
       " Does not contain sampling weights,\n",
       " 1D Coordinates object with 2 points of cshape (2,)\n",
       " domain: cart, convention: right, unit: met\n",
       " coordinates: x in meters, y in meters, z in meters\n",
       " Does not contain sampling weights)"
      ]
     },
     "execution_count": 30,
     "metadata": {},
     "output_type": "execute_result"
    }
   ],
   "source": [
    "data = pf.io.read_sofa('../data/HRIR_CIRC360_NF150.sofa')\n",
    "data"
   ]
  },
  {
   "cell_type": "markdown",
   "metadata": {},
   "source": []
  }
 ],
 "metadata": {
  "kernelspec": {
   "display_name": "Python 3.8.8 ('venv': venv)",
   "language": "python",
   "name": "python3"
  },
  "language_info": {
   "codemirror_mode": {
    "name": "ipython",
    "version": 3
   },
   "file_extension": ".py",
   "mimetype": "text/x-python",
   "name": "python",
   "nbconvert_exporter": "python",
   "pygments_lexer": "ipython3",
   "version": "3.8.8"
  },
  "orig_nbformat": 4,
  "vscode": {
   "interpreter": {
    "hash": "427ec8dedc79bd1f7ae1a93cdbd521680c768e6af83d5a1520a37fa2234ce1d6"
   }
  }
 },
 "nbformat": 4,
 "nbformat_minor": 2
}
