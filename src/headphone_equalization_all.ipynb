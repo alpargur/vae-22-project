{
 "cells": [
  {
   "cell_type": "markdown",
   "metadata": {},
   "source": [
    "# Virtual Acoustic Environments Spring 2022\n",
    "## Project 9: Headphone Equalization using the Mean Square Error\n",
    "**Author: Alpar Gür**\n",
    "\n",
    "**Supervisor: David Bau**\n",
    "\n",
    "**Professor: Christoph Pörschmann**\n",
    "\n",
    "---"
   ]
  },
  {
   "cell_type": "code",
   "execution_count": 20,
   "metadata": {},
   "outputs": [],
   "source": [
    "# import packages\n",
    "import numpy as np\n",
    "import sounddevice as sd\n",
    "import soundfile as sf\n",
    "\n",
    "from collections import defaultdict\n",
    "from numpy import ndarray, convolve, append\n",
    "from numpy.fft import fft, ifft\n",
    "from scipy.signal import butter, firwin, firwin2, unit_impulse, sosfilt, kaiserord, freqz\n",
    "from shared.record_signal import convert_audio_to_numpy_array, play_sound\n",
    "import matplotlib.pyplot as plt\n",
    "\n",
    "import IPython.display as ipd"
   ]
  },
  {
   "cell_type": "code",
   "execution_count": 47,
   "metadata": {},
   "outputs": [],
   "source": [
    "# define global parameters\n",
    "fs = 44100\n",
    "n = 17640\n",
    "n_one_sided = int(n / 2 + 1)\n",
    "recording_count = 10\n",
    "headphones = ['HD600', 'K601_001918']"
   ]
  },
  {
   "cell_type": "markdown",
   "metadata": {},
   "source": [
    "Get Impulse Response (IR) for each Headphone"
   ]
  },
  {
   "cell_type": "code",
   "execution_count": 57,
   "metadata": {},
   "outputs": [],
   "source": [
    "def get_impulse_response_in_time_domain(headphone: str, i: int, n: int = 17640):\n",
    "    audio, fs = convert_audio_to_numpy_array(f\"../HPIRs_Erbes_44100Hz/Measurements/{headphone}/pass0{i}.wav\")\n",
    "    return audio"
   ]
  },
  {
   "cell_type": "code",
   "execution_count": 58,
   "metadata": {},
   "outputs": [
    {
     "name": "stdout",
     "output_type": "stream",
     "text": [
      "Headphone:\t HD600\n",
      "Shape:\t\t (17640, 2)\n",
      "Headphone:\t K601_001918\n",
      "Shape:\t\t (17640, 2)\n"
     ]
    }
   ],
   "source": [
    "headphone_impulse_responses = defaultdict(dict)\n",
    "\n",
    "for i in range(len(headphones)):\n",
    "    key = headphones[i]\n",
    "    print(f\"Headphone:\\t {key}\")\n",
    "    for inner_key in range(recording_count):\n",
    "        headphone_impulse_responses[key][inner_key] = get_impulse_response_in_time_domain(key, inner_key, n)\n",
    "    shape = headphone_impulse_responses[key][recording_count-1].shape\n",
    "    print(f'Shape:\\t\\t {shape}')"
   ]
  },
  {
   "cell_type": "markdown",
   "metadata": {},
   "source": [
    "Get Fourier Transform of IRs for each Headphone"
   ]
  },
  {
   "cell_type": "code",
   "execution_count": 59,
   "metadata": {},
   "outputs": [],
   "source": [
    "def transform_impulse_responses_to_frequency_domain(recording):\n",
    "    y_l = recording[:, 0]\n",
    "    y_r = recording[:, 1]\n",
    "    Y_L = fft(y_l)\n",
    "    Y_R = fft(y_r)\n",
    "    Y = append([Y_L], [Y_R], axis=0)\n",
    "    \n",
    "    return Y"
   ]
  },
  {
   "cell_type": "code",
   "execution_count": 60,
   "metadata": {},
   "outputs": [
    {
     "name": "stdout",
     "output_type": "stream",
     "text": [
      "Headphone:\t HD600\n",
      "Shape:\t\t (2, 17640)\n",
      "Headphone:\t K601_001918\n",
      "Shape:\t\t (2, 17640)\n"
     ]
    }
   ],
   "source": [
    "headphone_impulse_responses_fft = defaultdict(dict)\n",
    "\n",
    "for i in range(len(headphones)):\n",
    "    key = headphones[i]\n",
    "    print(f\"Headphone:\\t {key}\")\n",
    "    for inner_key in range(recording_count):\n",
    "        headphone_impulse_responses_fft[key][inner_key] = transform_impulse_responses_to_frequency_domain(headphone_impulse_responses[key][inner_key])\n",
    "    shape = headphone_impulse_responses_fft[key][recording_count-1].shape\n",
    "    print(f'Shape:\\t\\t {shape}')"
   ]
  },
  {
   "cell_type": "markdown",
   "metadata": {},
   "source": [
    "Compute Complex Mean of Time Domain IRs for each Headphone"
   ]
  },
  {
   "cell_type": "code",
   "execution_count": 61,
   "metadata": {},
   "outputs": [],
   "source": [
    "def get_complex_mean(audios, recording_count, n: int = 17640):\n",
    "    Y_L_sum = np.empty([n])\n",
    "    Y_R_sum = np.empty([n])\n",
    "\n",
    "    for inner_key in range(recording_count):\n",
    "        Y_L_sum = Y_L_sum + audios[inner_key][0, :]\n",
    "        Y_R_sum = Y_R_sum + audios[inner_key][1, :]\n",
    "\n",
    "    Y_L_complex_mean = Y_L_sum / recording_count\n",
    "    Y_R_complex_mean = Y_R_sum / recording_count\n",
    "    Y_complex_mean = append([Y_L_complex_mean], [Y_R_complex_mean], axis = 0)\n",
    "\n",
    "    return Y_complex_mean"
   ]
  },
  {
   "cell_type": "code",
   "execution_count": 75,
   "metadata": {},
   "outputs": [
    {
     "name": "stdout",
     "output_type": "stream",
     "text": [
      "Headphone:\t HD600\n",
      "Shape:\t\t (2, 17640)\n",
      "Headphone:\t K601_001918\n",
      "Shape:\t\t (2, 17640)\n"
     ]
    }
   ],
   "source": [
    "headphone_complex_means = defaultdict(dict)\n",
    "\n",
    "for i in range(len(headphones)):\n",
    "    key = headphones[i]\n",
    "    print(f\"Headphone:\\t {key}\")\n",
    "    headphone_complex_means[key] = get_complex_mean(headphone_impulse_responses_fft[key], recording_count, n)\n",
    "    shape = headphone_complex_means[key].shape\n",
    "    print(f'Shape:\\t\\t {shape}')\n"
   ]
  },
  {
   "cell_type": "markdown",
   "metadata": {},
   "source": [
    "Visualize Spectrum"
   ]
  },
  {
   "cell_type": "code",
   "execution_count": 78,
   "metadata": {},
   "outputs": [],
   "source": [
    "def viz_spectrum(recording, n, ax1_title, ax2_title, fs=44100):\n",
    "    f_vec = np.linspace(0, fs/2, n)\n",
    "    left_channel = recording[0, :][: n]\n",
    "    right_channel = recording[1, :][: n]\n",
    "\n",
    "    fig, (ax1, ax2) = plt.subplots(1, 2, figsize=(15, 2), sharex=True)\n",
    "\n",
    "    ax1.set_title(ax1_title)\n",
    "    ax2.set_title(ax2_title)\n",
    "\n",
    "    ax1.set_xlabel(\"Frequency [Hz]\")\n",
    "    ax2.set_xlabel(\"Frequency [Hz]\")\n",
    "    ax1.set_ylabel(\"Magnitude (dB)\")\n",
    "\n",
    "    ax1.semilogx(f_vec, 20*np.log10(np.abs(left_channel)))\n",
    "    ax2.semilogx(f_vec, 20*np.log10(np.abs(right_channel)))\n",
    "\n",
    "    ax1.set_xlim([20, fs/2])\n",
    "    ax1.set_ylim(-60, 30)\n",
    "    ax2.set_xlim([20, fs/2])\n",
    "    ax2.set_ylim(-60, 30)\n",
    "\n",
    "    ax1.grid(True)\n",
    "    ax2.grid(True)\n",
    "    fig.show()"
   ]
  },
  {
   "cell_type": "code",
   "execution_count": 79,
   "metadata": {},
   "outputs": [
    {
     "name": "stderr",
     "output_type": "stream",
     "text": [
      "/var/folders/q_/_sb8ml5x6px7zxlxs9cnf9jc0000gn/T/ipykernel_72966/2947833093.py:25: UserWarning: Matplotlib is currently using module://matplotlib_inline.backend_inline, which is a non-GUI backend, so cannot show the figure.\n",
      "  fig.show()\n"
     ]
    },
    {
     "data": {
      "image/png": "[encoded data removed]",
      "text/plain": [
       "<Figure size 1080x144 with 2 Axes>"
      ]
     },
     "metadata": {
      "needs_background": "light"
     },
     "output_type": "display_data"
    }
   ],
   "source": [
    "viz_spectrum(headphone_complex_means['HD600'], n_one_sided, 'Recorded Left', 'Recorded Right')"
   ]
  },
  {
   "cell_type": "code",
   "execution_count": null,
   "metadata": {},
   "outputs": [],
   "source": []
  }
 ],
 "metadata": {
  "kernelspec": {
   "display_name": "Python 3.8.3 ('venv': venv)",
   "language": "python",
   "name": "python3"
  },
  "language_info": {
   "codemirror_mode": {
    "name": "ipython",
    "version": 3
   },
   "file_extension": ".py",
   "mimetype": "text/x-python",
   "name": "python",
   "nbconvert_exporter": "python",
   "pygments_lexer": "ipython3",
   "version": "3.8.3"
  },
  "orig_nbformat": 4,
  "vscode": {
   "interpreter": {
    "hash": "427ec8dedc79bd1f7ae1a93cdbd521680c768e6af83d5a1520a37fa2234ce1d6"
   }
  }
 },
 "nbformat": 4,
 "nbformat_minor": 2
}
