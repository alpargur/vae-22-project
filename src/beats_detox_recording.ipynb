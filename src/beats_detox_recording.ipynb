{
 "cells": [
  {
   "cell_type": "markdown",
   "metadata": {},
   "source": [
    "# Virtual Acoustic Environments Spring 2022\n",
    "## Project 9: Headphone Equalization\n",
    "**Author: Alpar Gür**\n",
    "\n",
    "**Supervisor: David Bau**\n",
    "\n",
    "**Professor: Christoph Pörschmann**\n",
    "\n",
    "---\n",
    "This notebook is to extract and write the impulse responses recorded from Beats Detox headphone."
   ]
  },
  {
   "cell_type": "code",
   "execution_count": 1,
   "metadata": {},
   "outputs": [],
   "source": [
    "# load packages\n",
    "import numpy as np\n",
    "import sounddevice as sd\n",
    "import soundfile as sf\n",
    "from scipy.io.wavfile import write\n",
    "import matplotlib.pyplot as plt\n",
    "from numpy.fft import rfft, irfft\n",
    "from collections import defaultdict\n",
    "from numpy import ndarray, ceil, log2, append\n",
    "\n",
    "from shared.record_signal import convert_audio_to_numpy_array, play_sound"
   ]
  },
  {
   "cell_type": "code",
   "execution_count": 2,
   "metadata": {},
   "outputs": [],
   "source": [
    "# define global parameters\n",
    "fs = 44100\n",
    "nyquist = fs / 2.0\n",
    "recording_count = 10\n",
    "headphones = ['Beats_Detox']"
   ]
  },
  {
   "cell_type": "code",
   "execution_count": 3,
   "metadata": {},
   "outputs": [
    {
     "name": "stdout",
     "output_type": "stream",
     "text": [
      "Audio:\t\t Sweep\n",
      "Sample Rate:\t 44100\n",
      "Shape:\t\t (88642,)\n"
     ]
    }
   ],
   "source": [
    "# import played sweep_sound\n",
    "sweep_sound, sweep_fs = convert_audio_to_numpy_array(f\"../sounds/input/sweep_fs_44100_mono.wav\")\n",
    "print('Audio:\\t\\t Sweep')\n",
    "print(f'Sample Rate:\\t {sweep_fs}')\n",
    "print(f\"Shape:\\t\\t {sweep_sound.shape}\")"
   ]
  },
  {
   "cell_type": "code",
   "execution_count": 4,
   "metadata": {},
   "outputs": [],
   "source": [
    "sd.play(sweep_sound, sweep_fs)"
   ]
  },
  {
   "cell_type": "code",
   "execution_count": 5,
   "metadata": {},
   "outputs": [
    {
     "name": "stdout",
     "output_type": "stream",
     "text": [
      "Headphone:\t Beats_Detox\n",
      "Sample Rate:\t 44100\n",
      "Shape:\t\t (88818, 2)\n"
     ]
    }
   ],
   "source": [
    "headphone_sweep_sounds = defaultdict(dict)\n",
    "\n",
    "for headphone in headphones:\n",
    "    print(f'Headphone:\\t {headphone}')\n",
    "    for i in range(recording_count):\n",
    "        sweep, fs = convert_audio_to_numpy_array(f\"../sounds/sweeps/{headphone}/pass0{i}.wav\")\n",
    "        headphone_sweep_sounds[headphone][i] = sweep\n",
    "    headphone_sweep_sounds[headphone]['fs'] = fs\n",
    "    print(f'Sample Rate:\\t {fs}')\n",
    "    print(f'Shape:\\t\\t {sweep.shape}')"
   ]
  },
  {
   "cell_type": "code",
   "execution_count": 6,
   "metadata": {},
   "outputs": [],
   "source": [
    "# play sweep\n",
    "sd.play(headphone_sweep_sounds['Beats_Detox'][0], fs)"
   ]
  },
  {
   "cell_type": "markdown",
   "metadata": {},
   "source": [
    "Visualize Sweep"
   ]
  },
  {
   "cell_type": "code",
   "execution_count": 7,
   "metadata": {},
   "outputs": [
    {
     "name": "stderr",
     "output_type": "stream",
     "text": [
      "/Users/alpargur/Library/Mobile Documents/com~apple~CloudDocs/Uni/Semester-2/VAE/Project/vae-22-project/venv/lib/python3.8/site-packages/matplotlib/axes/_axes.py:7622: RuntimeWarning: divide by zero encountered in log10\n",
      "  Z = 10. * np.log10(spec)\n"
     ]
    },
    {
     "data": {
      "image/png": "[encoded data removed]",
      "text/plain": [
       "<Figure size 1080x144 with 4 Axes>"
      ]
     },
     "metadata": {
      "needs_background": "light"
     },
     "output_type": "display_data"
    }
   ],
   "source": [
    "y_l = headphone_sweep_sounds['Beats_Detox'][0][:, 0]\n",
    "y_r = headphone_sweep_sounds['Beats_Detox'][0][:, 1]\n",
    "\n",
    "fig, (ax1, ax2, ax3) = plt.subplots(1, 3, figsize=(15, 2))\n",
    "\n",
    "ax1.set_title('Excitation Sweep')\n",
    "ax1.set_ylabel(\"Frequency [Hz]\")\n",
    "ax1.set_xlabel(\"Time [s]\")\n",
    "ax2.set_title('Recorded Sweep Left Ear')\n",
    "ax2.set_xlabel(\"Time [s]\")\n",
    "ax3.set_title('Recorded Sweep Right Ear')\n",
    "ax3.set_xlabel(\"Time [s]\")\n",
    "\n",
    "v_min = -120\n",
    "v_max = -50\n",
    "\n",
    "_, _, _, cax1 = ax1.specgram(sweep_sound+0.000001, NFFT=512, Fs=fs, noverlap=300, vmin=v_min, vmax=v_max)\n",
    "_, _, _, cax2 = ax2.specgram(y_l, NFFT=512, Fs=fs, noverlap=300, vmin=v_min, vmax=v_max)\n",
    "_, _, _, cax3 = ax3.specgram(y_r, NFFT=512, Fs=fs, noverlap=300, vmin=v_min, vmax=v_max)\n",
    "\n",
    "fig.colorbar(cax3, ax=ax3).set_label('Intensity [dB]')"
   ]
  },
  {
   "cell_type": "markdown",
   "metadata": {},
   "source": [
    "### Deconvolution"
   ]
  },
  {
   "cell_type": "code",
   "execution_count": 8,
   "metadata": {},
   "outputs": [],
   "source": [
    "def pad_array(recording: ndarray):\n",
    "    # define length of FFT (zero padding): at least double length of input\n",
    "    input_length = recording.size\n",
    "    n = ceil(log2(input_length)) + 1\n",
    "    N_fft = int(pow(2, n))\n",
    "    N_single_sided = N_fft/2+1\n",
    "\n",
    "    print(f'Input Length:\\t {input_length}')\n",
    "    print(f'n:\\t\\t {n}')\n",
    "    print(f'N_fft:\\t\\t {N_fft}')\n",
    "    print(f'N_single_sided:\\t {N_single_sided}')\n",
    "\n",
    "    return input_length, N_fft, N_single_sided"
   ]
  },
  {
   "cell_type": "code",
   "execution_count": 9,
   "metadata": {},
   "outputs": [],
   "source": [
    "def transform_time_to_frequency_domain(audio: ndarray, recording: ndarray, N_fft: int):\n",
    "    y_l = recording[:, 0] # left channel\n",
    "    y_r = recording[:, 1] # right channel\n",
    "    \n",
    "    X_f = rfft(audio, N_fft)\n",
    "    Yl_f = rfft(y_l, N_fft)\n",
    "    Yr_f = rfft(y_r, N_fft)\n",
    "\n",
    "    return y_l, y_r, X_f, Yl_f, Yr_f\n",
    "\n"
   ]
  },
  {
   "cell_type": "code",
   "execution_count": 10,
   "metadata": {},
   "outputs": [],
   "source": [
    "def compute_filter(X_f, Yl_f, Yr_f):\n",
    "    X_f_inv = 1 / X_f\n",
    "    Hl_f = Yl_f * X_f_inv\n",
    "    Hr_f = Yr_f * X_f_inv\n",
    "\n",
    "    return Hl_f, Hr_f\n",
    "    "
   ]
  },
  {
   "cell_type": "code",
   "execution_count": 11,
   "metadata": {},
   "outputs": [],
   "source": [
    "def transform_frequency_to_time_domain(Hl_f, Hr_f, N_fft, input_length):\n",
    "    # backward transform\n",
    "    hl = irfft(Hl_f, N_fft)\n",
    "    hr = irfft(Hr_f, N_fft)\n",
    "    # truncate to original length\n",
    "    hl = hl[:int(input_length/2)]\n",
    "    hr = hr[:int(input_length/2)]\n",
    "\n",
    "    return hl, hr"
   ]
  },
  {
   "cell_type": "code",
   "execution_count": 12,
   "metadata": {},
   "outputs": [],
   "source": [
    "def make_sweep_stereo(y_l, y_r):\n",
    "    sweep_stereo = append([y_l], [y_r], axis=0)\n",
    "    sweep_stereo = sweep_stereo.transpose() \n",
    "    return sweep_stereo"
   ]
  },
  {
   "cell_type": "code",
   "execution_count": 13,
   "metadata": {},
   "outputs": [],
   "source": [
    "def create_impulse_response(hl, hr):\n",
    "    impulse_response = append([hl], [hr], axis=0)\n",
    "    impulse_response = impulse_response.transpose()\n",
    "    return impulse_response"
   ]
  },
  {
   "cell_type": "code",
   "execution_count": 14,
   "metadata": {},
   "outputs": [],
   "source": [
    "def deconvolve(audio, recording):\n",
    "    input_length, N_fft, N_single_sided = pad_array(recording)\n",
    "    y_l, y_r, X_f, Yl_f, Yr_f = transform_time_to_frequency_domain(audio, recording, N_fft)\n",
    "    Hl_f, Hr_f = compute_filter(X_f, Yl_f, Yr_f)\n",
    "    hl, hr = transform_frequency_to_time_domain(Hl_f, Hr_f, N_fft, input_length)\n",
    "    sweep_stereo = make_sweep_stereo(y_l, y_r)\n",
    "    impulse_response = create_impulse_response(hl, hr)\n",
    "\n",
    "    return sweep_stereo, impulse_response"
   ]
  },
  {
   "cell_type": "code",
   "execution_count": 15,
   "metadata": {},
   "outputs": [],
   "source": [
    "def write_sweep(recording, fs, headphone, count):\n",
    "    write(f\"../sounds/sweeps/{headphone}/{headphone}_sweep_0{count}.wav\", fs, recording)\n",
    "\n",
    "def write_impulse_response(recording, fs, headphone, count):\n",
    "    write(f\"../sounds/impulse_responses/{headphone}/pass0{count}.wav\", fs, recording)"
   ]
  },
  {
   "cell_type": "code",
   "execution_count": 16,
   "metadata": {},
   "outputs": [
    {
     "name": "stdout",
     "output_type": "stream",
     "text": [
      "Headphone:\t Beats_Detox\n",
      "Input Length:\t 177284\n",
      "n:\t\t 19.0\n",
      "N_fft:\t\t 524288\n",
      "N_single_sided:\t 262145.0\n",
      "Input Length:\t 177284\n",
      "n:\t\t 19.0\n",
      "N_fft:\t\t 524288\n",
      "N_single_sided:\t 262145.0\n",
      "Input Length:\t 177284\n",
      "n:\t\t 19.0\n",
      "N_fft:\t\t 524288\n",
      "N_single_sided:\t 262145.0\n",
      "Input Length:\t 177284\n",
      "n:\t\t 19.0\n",
      "N_fft:\t\t 524288\n",
      "N_single_sided:\t 262145.0\n",
      "Input Length:\t 177284\n",
      "n:\t\t 19.0\n",
      "N_fft:\t\t 524288\n",
      "N_single_sided:\t 262145.0\n",
      "Input Length:\t 177284\n",
      "n:\t\t 19.0\n",
      "N_fft:\t\t 524288\n",
      "N_single_sided:\t 262145.0\n",
      "Input Length:\t 177284\n",
      "n:\t\t 19.0\n",
      "N_fft:\t\t 524288\n",
      "N_single_sided:\t 262145.0\n",
      "Input Length:\t 177284\n",
      "n:\t\t 19.0\n",
      "N_fft:\t\t 524288\n",
      "N_single_sided:\t 262145.0\n",
      "Input Length:\t 177284\n",
      "n:\t\t 19.0\n",
      "N_fft:\t\t 524288\n",
      "N_single_sided:\t 262145.0\n",
      "Input Length:\t 177636\n",
      "n:\t\t 19.0\n",
      "N_fft:\t\t 524288\n",
      "N_single_sided:\t 262145.0\n",
      "Sweep Shape:\t (88818, 2)\n",
      "IR Shape:\t (88818, 2)\n"
     ]
    }
   ],
   "source": [
    "headphone_sweep_deconvolved = defaultdict(dict)\n",
    "headphone_impulse_responses = defaultdict(dict)\n",
    "\n",
    "for headphone in headphones:\n",
    "    print(f'Headphone:\\t {headphone}')\n",
    "    for i in range(recording_count):\n",
    "        sweep_stereo, impulse_response  = deconvolve(sweep_sound, headphone_sweep_sounds[headphone][i])\n",
    "        headphone_sweep_deconvolved[headphone][i] = sweep_stereo\n",
    "        headphone_impulse_responses[headphone][i] = impulse_response\n",
    "    print(f'Sweep Shape:\\t {sweep_stereo.shape}')\n",
    "    print(f'IR Shape:\\t {impulse_response.shape}')\n",
    "\n"
   ]
  },
  {
   "cell_type": "markdown",
   "metadata": {},
   "source": [
    "### Write IRs as wav file"
   ]
  },
  {
   "cell_type": "code",
   "execution_count": 17,
   "metadata": {},
   "outputs": [],
   "source": [
    "for headphone in headphones:\n",
    "    for count in range(recording_count):\n",
    "        write_impulse_response(headphone_impulse_responses[headphone][i], fs, headphone, count)"
   ]
  }
 ],
 "metadata": {
  "kernelspec": {
   "display_name": "Python 3.8.3 ('venv': venv)",
   "language": "python",
   "name": "python3"
  },
  "language_info": {
   "codemirror_mode": {
    "name": "ipython",
    "version": 3
   },
   "file_extension": ".py",
   "mimetype": "text/x-python",
   "name": "python",
   "nbconvert_exporter": "python",
   "pygments_lexer": "ipython3",
   "version": "3.8.3"
  },
  "orig_nbformat": 4,
  "vscode": {
   "interpreter": {
    "hash": "427ec8dedc79bd1f7ae1a93cdbd521680c768e6af83d5a1520a37fa2234ce1d6"
   }
  }
 },
 "nbformat": 4,
 "nbformat_minor": 2
}
