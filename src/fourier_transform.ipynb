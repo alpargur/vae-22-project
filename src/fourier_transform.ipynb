{
 "cells": [
  {
   "cell_type": "code",
   "execution_count": 1,
   "metadata": {},
   "outputs": [],
   "source": [
    "import numpy as np\n",
    "import sounddevice as sd\n",
    "import soundfile as sf\n",
    "from numpy import ndarray, convolve\n",
    "from numpy.fft import fft, ifft, rfft, hfft\n",
    "from scipy.signal import butter, lfilter, freqz, firwin2, unit_impulse, sosfilt\n",
    "from shared.record_signal import convert_audio_to_numpy_array, play_sound\n",
    "import matplotlib.pyplot as plt\n",
    "\n",
    "import IPython.display as ipd"
   ]
  },
  {
   "cell_type": "code",
   "execution_count": 2,
   "metadata": {},
   "outputs": [],
   "source": [
    "recording_count = 10\n",
    "fs = 44100"
   ]
  },
  {
   "cell_type": "code",
   "execution_count": 3,
   "metadata": {},
   "outputs": [],
   "source": [
    "hd600_audios = []\n",
    "\n",
    "for i in range(recording_count):\n",
    "    audio, fs = convert_audio_to_numpy_array(f\"../HPIRs_Erbes_44100Hz/Measurements/HD600/pass0{i}.wav\")\n",
    "    hd600_audios.append(audio)"
   ]
  },
  {
   "cell_type": "code",
   "execution_count": 4,
   "metadata": {},
   "outputs": [
    {
     "name": "stdout",
     "output_type": "stream",
     "text": [
      "Number of Input steps:\t 17640\n"
     ]
    }
   ],
   "source": [
    "n_input = hd600_audios[0].shape[0]\n",
    "print('Number of Input steps:\\t', n_input)"
   ]
  },
  {
   "cell_type": "code",
   "execution_count": 5,
   "metadata": {},
   "outputs": [],
   "source": [
    "hd600_fft = []\n",
    "\n",
    "for audio in hd600_audios:\n",
    "    y_l = audio[:, 0]\n",
    "    y_r = audio[:, 1]\n",
    "    Y_L = fft(y_l)\n",
    "    Y_R = fft(y_r)\n",
    "    Y_fft = np.append([Y_L], [Y_R], axis = 0)\n",
    "    Y_fft = Y_fft.transpose()\n",
    "    hd600_fft.append(Y_fft)"
   ]
  },
  {
   "cell_type": "code",
   "execution_count": 6,
   "metadata": {},
   "outputs": [
    {
     "name": "stdout",
     "output_type": "stream",
     "text": [
      "Number of output points:\t\t 17640\n",
      "Number of output points (one-sided):\t 8821\n"
     ]
    }
   ],
   "source": [
    "n_output = hd600_fft[0].shape[0]\n",
    "print('Number of output points:\\t\\t', n_output)\n",
    "n_output_one_sided = int(n_output / 2 + 1)\n",
    "print(\"Number of output points (one-sided):\\t\", n_output_one_sided)"
   ]
  },
  {
   "cell_type": "code",
   "execution_count": 7,
   "metadata": {},
   "outputs": [],
   "source": [
    "hd600_fft_mean = []\n",
    "Y_L_fft_sum = np.empty([n_output])\n",
    "Y_R_fft_sum = np.empty([n_output])\n",
    "\n",
    "for Y in hd600_fft:\n",
    "    Y_L_fft_sum = Y_L_fft_sum + Y[:, 0]\n",
    "    Y_R_fft_sum = Y_R_fft_sum + Y[:, 1]\n",
    "\n",
    "Y_L_complex_mean = Y_L_fft_sum / recording_count\n",
    "Y_R_complex_mean = Y_R_fft_sum / recording_count\n",
    "\n",
    "Y_complex_mean = np.append([Y_L_complex_mean], [Y_R_complex_mean], axis = 0)"
   ]
  },
  {
   "cell_type": "code",
   "execution_count": 8,
   "metadata": {},
   "outputs": [],
   "source": [
    "def viz_spectrum(recording, n, ax1_title, ax2_title, fs=44100):\n",
    "    f_vec = np.linspace(0, fs/2, n)\n",
    "    left_channel = recording[0, :][: n]\n",
    "    right_channel = recording[1, :][: n]\n",
    "\n",
    "    fig, (ax1, ax2) = plt.subplots(1, 2, figsize=(15, 2), sharex=True)\n",
    "\n",
    "    ax1.set_title(ax1_title)\n",
    "    ax2.set_title(ax2_title)\n",
    "\n",
    "    ax1.set_xlabel(\"Frequency [Hz]\")\n",
    "    ax2.set_xlabel(\"Frequency [Hz]\")\n",
    "\n",
    "    ax1.semilogx(f_vec, 20*np.log10(np.abs(left_channel)))\n",
    "    ax2.semilogx(f_vec, 20*np.log10(np.abs(right_channel)))\n",
    "\n",
    "    ax1.set_xlim([20, fs/2])\n",
    "    ax1.set_ylim(-60, 30)\n",
    "    ax2.set_xlim([20, fs/2])\n",
    "    ax2.set_ylim(-60, 30)\n",
    "\n",
    "    fig.show()"
   ]
  },
  {
   "cell_type": "code",
   "execution_count": 9,
   "metadata": {},
   "outputs": [
    {
     "name": "stderr",
     "output_type": "stream",
     "text": [
      "/var/folders/q_/_sb8ml5x6px7zxlxs9cnf9jc0000gn/T/ipykernel_50234/563957011.py:22: UserWarning: Matplotlib is currently using module://matplotlib_inline.backend_inline, which is a non-GUI backend, so cannot show the figure.\n",
      "  fig.show()\n"
     ]
    },
    {
     "data": {
      "image/png": "[encoded data removed]",
      "text/plain": [
       "<Figure size 1080x144 with 2 Axes>"
      ]
     },
     "metadata": {
      "needs_background": "light"
     },
     "output_type": "display_data"
    }
   ],
   "source": [
    "viz_spectrum(Y_complex_mean, n_output_one_sided, 'Recorded Left', 'Recorded Right')"
   ]
  },
  {
   "cell_type": "markdown",
   "metadata": {},
   "source": [
    "### Design Bandpass Filter"
   ]
  },
  {
   "cell_type": "code",
   "execution_count": 10,
   "metadata": {},
   "outputs": [
    {
     "data": {
      "text/plain": [
       "<module 'matplotlib.pyplot' from '/Users/alpargur/Library/Mobile Documents/com~apple~CloudDocs/Uni/Semester-2/VAE/Project/vae-22-project/venv/lib/python3.8/site-packages/matplotlib/pyplot.py'>"
      ]
     },
     "execution_count": 10,
     "metadata": {},
     "output_type": "execute_result"
    },
    {
     "data": {
      "image/png": "[encoded data removed]",
      "text/plain": [
       "<Figure size 432x288 with 1 Axes>"
      ]
     },
     "metadata": {
      "needs_background": "light"
     },
     "output_type": "display_data"
    }
   ],
   "source": [
    "## make fir filter by pushing a dirac through a butterworth SOS (multiple times)\n",
    "\n",
    "# filter paramters\n",
    "high_cut = 18000 \n",
    "low_order = 8\n",
    "low_cut = 40\n",
    "high_order = 8\n",
    "\n",
    "low_pass_filter = high_pass_filter = unit_impulse(n_output)\n",
    "\n",
    "# lowpass\n",
    "sos_low_pass = butter(low_order, high_cut, 'lowpass', fs=fs, output='sos')\n",
    "low_pass_filter = sosfilt(sos_low_pass, low_pass_filter)\n",
    "low_pass_filter = fft(low_pass_filter)\n",
    "\n",
    "# highpass\n",
    "sos_hp = butter(high_order, low_cut, 'highpass', fs=fs, output='sos')\n",
    "high_pass_filter = sosfilt(sos_hp, high_pass_filter)\n",
    "high_pass_filter = fft(high_pass_filter)\n",
    "\n",
    "bandlimit_filter = high_pass_filter * low_pass_filter\n",
    "\n",
    "#plot\n",
    "f_vec = np.linspace(0, fs/2, n_output_one_sided)\n",
    "plt.semilogx(f_vec, 20*np.log10(np.abs(bandlimit_filter[: n_output_one_sided])), color='green')\n",
    "plt.xlim([20, fs/2])\n",
    "plt.ylim([-50, 10])\n",
    "plt\n"
   ]
  },
  {
   "cell_type": "markdown",
   "metadata": {},
   "source": [
    "Apply Bandpass Filter to L|R channels"
   ]
  },
  {
   "cell_type": "code",
   "execution_count": 11,
   "metadata": {},
   "outputs": [],
   "source": [
    "# This is with the second one - works properly\n",
    "\n",
    "Y_L_bandpassed = bandlimit_filter * Y_complex_mean[0]\n",
    "Y_R_bandpassed = bandlimit_filter * Y_complex_mean[1]\n",
    "\n",
    "Y_bandpassed = np.append([Y_L_bandpassed], [Y_R_bandpassed], axis = 0)"
   ]
  },
  {
   "cell_type": "markdown",
   "metadata": {},
   "source": [
    "Visualize Bandpassed Recording"
   ]
  },
  {
   "cell_type": "code",
   "execution_count": 12,
   "metadata": {},
   "outputs": [
    {
     "name": "stderr",
     "output_type": "stream",
     "text": [
      "/var/folders/q_/_sb8ml5x6px7zxlxs9cnf9jc0000gn/T/ipykernel_50234/563957011.py:22: UserWarning: Matplotlib is currently using module://matplotlib_inline.backend_inline, which is a non-GUI backend, so cannot show the figure.\n",
      "  fig.show()\n"
     ]
    },
    {
     "data": {
      "image/png": "[encoded data removed]",
      "text/plain": [
       "<Figure size 1080x144 with 2 Axes>"
      ]
     },
     "metadata": {
      "needs_background": "light"
     },
     "output_type": "display_data"
    }
   ],
   "source": [
    "viz_spectrum(Y_bandpassed, n_output_one_sided, 'Bandpassed Left', 'Bandpassed Right')"
   ]
  },
  {
   "cell_type": "markdown",
   "metadata": {},
   "source": [
    "### Design Regularisation Filter"
   ]
  },
  {
   "cell_type": "code",
   "execution_count": 13,
   "metadata": {},
   "outputs": [],
   "source": [
    "taps = 51\n",
    "freqs = [0, 0.2, 0.6, 1]\n",
    "gain = np.array([-20, -20, 0, 0]).astype(float)\n",
    "linear_gain = 10**(gain/20)\n",
    "linear_gain[-1] = 0"
   ]
  },
  {
   "cell_type": "code",
   "execution_count": 14,
   "metadata": {},
   "outputs": [],
   "source": [
    "b = firwin2(taps, freqs, linear_gain, window=('kaiser', 8))"
   ]
  },
  {
   "cell_type": "code",
   "execution_count": 15,
   "metadata": {},
   "outputs": [],
   "source": [
    "B = fft(b, n_output)"
   ]
  },
  {
   "cell_type": "code",
   "execution_count": 16,
   "metadata": {},
   "outputs": [
    {
     "data": {
      "text/plain": [
       "[<matplotlib.lines.Line2D at 0x7f98948f7310>]"
      ]
     },
     "execution_count": 16,
     "metadata": {},
     "output_type": "execute_result"
    },
    {
     "data": {
      "image/png": "[encoded data removed]",
      "text/plain": [
       "<Figure size 432x288 with 1 Axes>"
      ]
     },
     "metadata": {
      "needs_background": "light"
     },
     "output_type": "display_data"
    }
   ],
   "source": [
    "plt.plot(b)"
   ]
  },
  {
   "cell_type": "markdown",
   "metadata": {},
   "source": [
    "### Calculate Inverse Filter in Frequency Domain"
   ]
  },
  {
   "cell_type": "markdown",
   "metadata": {},
   "source": [
    "$hc = [H^{T}H + \\beta B^{T}B] * H^{T}d$\n",
    "- $hc$ -> convolution matrice of measured transfer function\n",
    "- $H$ -> convolution matrice of measured regularisation filter\n",
    "- $B$ -> signal vector \n",
    "- $d$ -> signal vector (latter denoting the delayed IR of target bandpass filter)\n",
    "- $\\beta$ -> weighting regularisation filter\n",
    "\n",
    "**Important Note**\n",
    "\n",
    "$\\beta$ has the value of 0.1."
   ]
  },
  {
   "cell_type": "code",
   "execution_count": 17,
   "metadata": {},
   "outputs": [],
   "source": [
    "beta = 0.5"
   ]
  },
  {
   "cell_type": "code",
   "execution_count": 18,
   "metadata": {},
   "outputs": [],
   "source": [
    "Hc_L = bandlimit_filter.transpose() * np.conj(Y_complex_mean[0]).transpose() / (Y_complex_mean[0].transpose() * np.conj(Y_complex_mean[0]) + beta * B.transpose() * np.conj(B.transpose()))"
   ]
  },
  {
   "cell_type": "code",
   "execution_count": 19,
   "metadata": {},
   "outputs": [],
   "source": [
    "Hc_R = bandlimit_filter.transpose() * np.conj(Y_complex_mean[1]).transpose() / (Y_complex_mean[1].transpose() * np.conj(Y_complex_mean[1]) + beta * B.transpose() * np.conj(B.transpose()))"
   ]
  },
  {
   "cell_type": "code",
   "execution_count": 20,
   "metadata": {},
   "outputs": [],
   "source": [
    "Y_inversed = np.append([Hc_L], [Hc_R], axis = 0)"
   ]
  },
  {
   "cell_type": "markdown",
   "metadata": {},
   "source": [
    "Visualize Signal Processed with Compensation Filter"
   ]
  },
  {
   "cell_type": "code",
   "execution_count": 21,
   "metadata": {},
   "outputs": [
    {
     "name": "stderr",
     "output_type": "stream",
     "text": [
      "/var/folders/q_/_sb8ml5x6px7zxlxs9cnf9jc0000gn/T/ipykernel_50234/563957011.py:22: UserWarning: Matplotlib is currently using module://matplotlib_inline.backend_inline, which is a non-GUI backend, so cannot show the figure.\n",
      "  fig.show()\n"
     ]
    },
    {
     "data": {
      "image/png": "[encoded data removed]",
      "text/plain": [
       "<Figure size 1080x144 with 2 Axes>"
      ]
     },
     "metadata": {
      "needs_background": "light"
     },
     "output_type": "display_data"
    }
   ],
   "source": [
    "viz_spectrum(Y_inversed, n_output_one_sided, 'Inversed Signal Left', 'Inversed Signal Right')"
   ]
  },
  {
   "cell_type": "markdown",
   "metadata": {},
   "source": [
    "Transfer Back to Time Domain"
   ]
  },
  {
   "cell_type": "code",
   "execution_count": 22,
   "metadata": {},
   "outputs": [],
   "source": [
    "hc_l = ifft(Hc_L)\n",
    "hc_r = ifft(Hc_R)\n",
    "hc_compensated = np.append([hc_l], [hc_r], axis=0)"
   ]
  },
  {
   "cell_type": "code",
   "execution_count": 23,
   "metadata": {},
   "outputs": [],
   "source": [
    "def viz_sound(recording, n, title, ax1_title, ax2_title, fs=44100):\n",
    "    t_vec = np.arange(0, n) / fs\n",
    "    left_channel = recording[0, :]\n",
    "    right_channel = recording[1, :]\n",
    "\n",
    "    fig, ((ax1, ax2)) = plt.subplots(1, 2, figsize=(15, 6), sharex='row', sharey='row')\n",
    "    \n",
    "\n",
    "    ax1.set_title(ax1_title)\n",
    "    ax1.set_xlabel('Seconds')\n",
    "    ax1.set_ylabel(\"Amplitude\")\n",
    "\n",
    "\n",
    "    ax2.set_title(ax2_title)\n",
    "    ax2.set_xlabel('Seconds')\n",
    "    ax2.set_ylabel(\"Amplitude\")\n",
    "\n",
    "    ax1.plot(t_vec, left_channel)\n",
    "    ax2.plot(t_vec, right_channel)\n",
    "\n",
    "    #ax1.set_xlim([0.0, 0.005])\n",
    "    #ax1.set_ylim([-1.8, 1.0])\n",
    "    #ax2.set_xlim([0.0, 0.005])\n",
    "    #ax2.set_ylim([-1.8, 1.0])\n",
    "\n",
    "    fig.suptitle(title, fontsize=16)\n",
    "\n",
    "    fig.show()"
   ]
  },
  {
   "cell_type": "code",
   "execution_count": 24,
   "metadata": {},
   "outputs": [
    {
     "name": "stderr",
     "output_type": "stream",
     "text": [
      "/Users/alpargur/Library/Mobile Documents/com~apple~CloudDocs/Uni/Semester-2/VAE/Project/vae-22-project/venv/lib/python3.8/site-packages/matplotlib/cbook/__init__.py:1298: ComplexWarning: Casting complex values to real discards the imaginary part\n",
      "  return np.asarray(x, float)\n",
      "/var/folders/q_/_sb8ml5x6px7zxlxs9cnf9jc0000gn/T/ipykernel_50234/2868790366.py:28: UserWarning: Matplotlib is currently using module://matplotlib_inline.backend_inline, which is a non-GUI backend, so cannot show the figure.\n",
      "  fig.show()\n"
     ]
    },
    {
     "data": {
      "image/png": "[encoded data removed]",
      "text/plain": [
       "<Figure size 1080x432 with 2 Axes>"
      ]
     },
     "metadata": {
      "needs_background": "light"
     },
     "output_type": "display_data"
    }
   ],
   "source": [
    "viz_sound(hc_compensated, n_output, 'IR Compensation Filter Result', 'IR Left Channel', 'IR Right Channel')"
   ]
  },
  {
   "cell_type": "code",
   "execution_count": 25,
   "metadata": {},
   "outputs": [],
   "source": [
    "shifted = np.roll(hc_compensated, 100)"
   ]
  },
  {
   "cell_type": "code",
   "execution_count": 26,
   "metadata": {},
   "outputs": [
    {
     "data": {
      "text/plain": [
       "(2, 17640)"
      ]
     },
     "execution_count": 26,
     "metadata": {},
     "output_type": "execute_result"
    }
   ],
   "source": [
    "shifted.shape"
   ]
  },
  {
   "cell_type": "code",
   "execution_count": 40,
   "metadata": {},
   "outputs": [],
   "source": [
    "shifted_l = shifted[0, :]\n",
    "shifted_r = shifted[1, :]\n",
    "\n",
    "shifted = np.append([shifted_l], [shifted_r], axis = 0)"
   ]
  },
  {
   "cell_type": "code",
   "execution_count": 41,
   "metadata": {},
   "outputs": [
    {
     "data": {
      "text/plain": [
       "(2, 2)"
      ]
     },
     "execution_count": 41,
     "metadata": {},
     "output_type": "execute_result"
    }
   ],
   "source": [
    "shifted.shape"
   ]
  },
  {
   "cell_type": "code",
   "execution_count": 35,
   "metadata": {},
   "outputs": [],
   "source": [
    "shifted = shifted.transpose()"
   ]
  },
  {
   "cell_type": "code",
   "execution_count": 36,
   "metadata": {},
   "outputs": [
    {
     "ename": "ValueError",
     "evalue": "x and y must have same first dimension, but have shapes (8000,) and (2,)",
     "output_type": "error",
     "traceback": [
      "\u001b[0;31m---------------------------------------------------------------------------\u001b[0m",
      "\u001b[0;31mValueError\u001b[0m                                Traceback (most recent call last)",
      "\u001b[1;32m/Users/alpargur/Library/Mobile Documents/com~apple~CloudDocs/Uni/Semester-2/VAE/Project/vae-22-project/src/fourier_transform.ipynb Cell 47'\u001b[0m in \u001b[0;36m<cell line: 1>\u001b[0;34m()\u001b[0m\n\u001b[0;32m----> <a href='vscode-notebook-cell:/Users/alpargur/Library/Mobile%20Documents/com~apple~CloudDocs/Uni/Semester-2/VAE/Project/vae-22-project/src/fourier_transform.ipynb#ch0000049?line=0'>1</a>\u001b[0m viz_sound(shifted, \u001b[39m8000\u001b[39;49m, \u001b[39m'\u001b[39;49m\u001b[39mIR Compensation Filter Result\u001b[39;49m\u001b[39m'\u001b[39;49m, \u001b[39m'\u001b[39;49m\u001b[39mIR Left Channel\u001b[39;49m\u001b[39m'\u001b[39;49m, \u001b[39m'\u001b[39;49m\u001b[39mIR Right Channel\u001b[39;49m\u001b[39m'\u001b[39;49m)\n",
      "\u001b[1;32m/Users/alpargur/Library/Mobile Documents/com~apple~CloudDocs/Uni/Semester-2/VAE/Project/vae-22-project/src/fourier_transform.ipynb Cell 31'\u001b[0m in \u001b[0;36mviz_sound\u001b[0;34m(recording, n, title, ax1_title, ax2_title, fs)\u001b[0m\n\u001b[1;32m     <a href='vscode-notebook-cell:/Users/alpargur/Library/Mobile%20Documents/com~apple~CloudDocs/Uni/Semester-2/VAE/Project/vae-22-project/src/fourier_transform.ipynb#ch0000033?line=14'>15</a>\u001b[0m ax2\u001b[39m.\u001b[39mset_xlabel(\u001b[39m'\u001b[39m\u001b[39mSeconds\u001b[39m\u001b[39m'\u001b[39m)\n\u001b[1;32m     <a href='vscode-notebook-cell:/Users/alpargur/Library/Mobile%20Documents/com~apple~CloudDocs/Uni/Semester-2/VAE/Project/vae-22-project/src/fourier_transform.ipynb#ch0000033?line=15'>16</a>\u001b[0m ax2\u001b[39m.\u001b[39mset_ylabel(\u001b[39m\"\u001b[39m\u001b[39mAmplitude\u001b[39m\u001b[39m\"\u001b[39m)\n\u001b[0;32m---> <a href='vscode-notebook-cell:/Users/alpargur/Library/Mobile%20Documents/com~apple~CloudDocs/Uni/Semester-2/VAE/Project/vae-22-project/src/fourier_transform.ipynb#ch0000033?line=17'>18</a>\u001b[0m ax1\u001b[39m.\u001b[39;49mplot(t_vec, left_channel)\n\u001b[1;32m     <a href='vscode-notebook-cell:/Users/alpargur/Library/Mobile%20Documents/com~apple~CloudDocs/Uni/Semester-2/VAE/Project/vae-22-project/src/fourier_transform.ipynb#ch0000033?line=18'>19</a>\u001b[0m ax2\u001b[39m.\u001b[39mplot(t_vec, right_channel)\n\u001b[1;32m     <a href='vscode-notebook-cell:/Users/alpargur/Library/Mobile%20Documents/com~apple~CloudDocs/Uni/Semester-2/VAE/Project/vae-22-project/src/fourier_transform.ipynb#ch0000033?line=20'>21</a>\u001b[0m \u001b[39m#ax1.set_xlim([0.0, 0.005])\u001b[39;00m\n\u001b[1;32m     <a href='vscode-notebook-cell:/Users/alpargur/Library/Mobile%20Documents/com~apple~CloudDocs/Uni/Semester-2/VAE/Project/vae-22-project/src/fourier_transform.ipynb#ch0000033?line=21'>22</a>\u001b[0m \u001b[39m#ax1.set_ylim([-1.8, 1.0])\u001b[39;00m\n\u001b[1;32m     <a href='vscode-notebook-cell:/Users/alpargur/Library/Mobile%20Documents/com~apple~CloudDocs/Uni/Semester-2/VAE/Project/vae-22-project/src/fourier_transform.ipynb#ch0000033?line=22'>23</a>\u001b[0m \u001b[39m#ax2.set_xlim([0.0, 0.005])\u001b[39;00m\n\u001b[1;32m     <a href='vscode-notebook-cell:/Users/alpargur/Library/Mobile%20Documents/com~apple~CloudDocs/Uni/Semester-2/VAE/Project/vae-22-project/src/fourier_transform.ipynb#ch0000033?line=23'>24</a>\u001b[0m \u001b[39m#ax2.set_ylim([-1.8, 1.0])\u001b[39;00m\n",
      "File \u001b[0;32m~/Library/Mobile Documents/com~apple~CloudDocs/Uni/Semester-2/VAE/Project/vae-22-project/venv/lib/python3.8/site-packages/matplotlib/axes/_axes.py:1632\u001b[0m, in \u001b[0;36mAxes.plot\u001b[0;34m(self, scalex, scaley, data, *args, **kwargs)\u001b[0m\n\u001b[1;32m   1390\u001b[0m \u001b[39m\"\"\"\u001b[39;00m\n\u001b[1;32m   1391\u001b[0m \u001b[39mPlot y versus x as lines and/or markers.\u001b[39;00m\n\u001b[1;32m   1392\u001b[0m \n\u001b[0;32m   (...)\u001b[0m\n\u001b[1;32m   1629\u001b[0m \u001b[39m(``'green'``) or hex strings (``'#008000'``).\u001b[39;00m\n\u001b[1;32m   1630\u001b[0m \u001b[39m\"\"\"\u001b[39;00m\n\u001b[1;32m   1631\u001b[0m kwargs \u001b[39m=\u001b[39m cbook\u001b[39m.\u001b[39mnormalize_kwargs(kwargs, mlines\u001b[39m.\u001b[39mLine2D)\n\u001b[0;32m-> 1632\u001b[0m lines \u001b[39m=\u001b[39m [\u001b[39m*\u001b[39m\u001b[39mself\u001b[39m\u001b[39m.\u001b[39m_get_lines(\u001b[39m*\u001b[39margs, data\u001b[39m=\u001b[39mdata, \u001b[39m*\u001b[39m\u001b[39m*\u001b[39mkwargs)]\n\u001b[1;32m   1633\u001b[0m \u001b[39mfor\u001b[39;00m line \u001b[39min\u001b[39;00m lines:\n\u001b[1;32m   1634\u001b[0m     \u001b[39mself\u001b[39m\u001b[39m.\u001b[39madd_line(line)\n",
      "File \u001b[0;32m~/Library/Mobile Documents/com~apple~CloudDocs/Uni/Semester-2/VAE/Project/vae-22-project/venv/lib/python3.8/site-packages/matplotlib/axes/_base.py:312\u001b[0m, in \u001b[0;36m_process_plot_var_args.__call__\u001b[0;34m(self, data, *args, **kwargs)\u001b[0m\n\u001b[1;32m    310\u001b[0m     this \u001b[39m+\u001b[39m\u001b[39m=\u001b[39m args[\u001b[39m0\u001b[39m],\n\u001b[1;32m    311\u001b[0m     args \u001b[39m=\u001b[39m args[\u001b[39m1\u001b[39m:]\n\u001b[0;32m--> 312\u001b[0m \u001b[39myield from\u001b[39;00m \u001b[39mself\u001b[39;49m\u001b[39m.\u001b[39;49m_plot_args(this, kwargs)\n",
      "File \u001b[0;32m~/Library/Mobile Documents/com~apple~CloudDocs/Uni/Semester-2/VAE/Project/vae-22-project/venv/lib/python3.8/site-packages/matplotlib/axes/_base.py:498\u001b[0m, in \u001b[0;36m_process_plot_var_args._plot_args\u001b[0;34m(self, tup, kwargs, return_kwargs)\u001b[0m\n\u001b[1;32m    495\u001b[0m     \u001b[39mself\u001b[39m\u001b[39m.\u001b[39maxes\u001b[39m.\u001b[39myaxis\u001b[39m.\u001b[39mupdate_units(y)\n\u001b[1;32m    497\u001b[0m \u001b[39mif\u001b[39;00m x\u001b[39m.\u001b[39mshape[\u001b[39m0\u001b[39m] \u001b[39m!=\u001b[39m y\u001b[39m.\u001b[39mshape[\u001b[39m0\u001b[39m]:\n\u001b[0;32m--> 498\u001b[0m     \u001b[39mraise\u001b[39;00m \u001b[39mValueError\u001b[39;00m(\u001b[39mf\u001b[39m\u001b[39m\"\u001b[39m\u001b[39mx and y must have same first dimension, but \u001b[39m\u001b[39m\"\u001b[39m\n\u001b[1;32m    499\u001b[0m                      \u001b[39mf\u001b[39m\u001b[39m\"\u001b[39m\u001b[39mhave shapes \u001b[39m\u001b[39m{\u001b[39;00mx\u001b[39m.\u001b[39mshape\u001b[39m}\u001b[39;00m\u001b[39m and \u001b[39m\u001b[39m{\u001b[39;00my\u001b[39m.\u001b[39mshape\u001b[39m}\u001b[39;00m\u001b[39m\"\u001b[39m)\n\u001b[1;32m    500\u001b[0m \u001b[39mif\u001b[39;00m x\u001b[39m.\u001b[39mndim \u001b[39m>\u001b[39m \u001b[39m2\u001b[39m \u001b[39mor\u001b[39;00m y\u001b[39m.\u001b[39mndim \u001b[39m>\u001b[39m \u001b[39m2\u001b[39m:\n\u001b[1;32m    501\u001b[0m     \u001b[39mraise\u001b[39;00m \u001b[39mValueError\u001b[39;00m(\u001b[39mf\u001b[39m\u001b[39m\"\u001b[39m\u001b[39mx and y can be no greater than 2D, but have \u001b[39m\u001b[39m\"\u001b[39m\n\u001b[1;32m    502\u001b[0m                      \u001b[39mf\u001b[39m\u001b[39m\"\u001b[39m\u001b[39mshapes \u001b[39m\u001b[39m{\u001b[39;00mx\u001b[39m.\u001b[39mshape\u001b[39m}\u001b[39;00m\u001b[39m and \u001b[39m\u001b[39m{\u001b[39;00my\u001b[39m.\u001b[39mshape\u001b[39m}\u001b[39;00m\u001b[39m\"\u001b[39m)\n",
      "\u001b[0;31mValueError\u001b[0m: x and y must have same first dimension, but have shapes (8000,) and (2,)"
     ]
    },
    {
     "data": {
      "image/png": "[encoded data removed]",
      "text/plain": [
       "<Figure size 1080x432 with 2 Axes>"
      ]
     },
     "metadata": {
      "needs_background": "light"
     },
     "output_type": "display_data"
    }
   ],
   "source": [
    "viz_sound(shifted, 8000, 'IR Compensation Filter Result', 'IR Left Channel', 'IR Right Channel')"
   ]
  },
  {
   "cell_type": "markdown",
   "metadata": {},
   "source": [
    "### Import a drum loop"
   ]
  },
  {
   "cell_type": "code",
   "execution_count": 68,
   "metadata": {},
   "outputs": [],
   "source": [
    "drum_loop, drum_fs = convert_audio_to_numpy_array(f\"../sounds/loops/drum_loop_128_bpm.wav\")"
   ]
  },
  {
   "cell_type": "code",
   "execution_count": 105,
   "metadata": {},
   "outputs": [],
   "source": [
    "play_sound(drum_loop, drum_fs)"
   ]
  },
  {
   "cell_type": "code",
   "execution_count": 104,
   "metadata": {},
   "outputs": [],
   "source": [
    "play_sound(erbes_drum_loop_comp, drum_fs)"
   ]
  },
  {
   "cell_type": "code",
   "execution_count": 31,
   "metadata": {},
   "outputs": [
    {
     "data": {
      "text/plain": [
       "array([0.00186157, 0.00415039], dtype=float32)"
      ]
     },
     "execution_count": 31,
     "metadata": {},
     "output_type": "execute_result"
    }
   ],
   "source": [
    "drum_loop[0, :]"
   ]
  },
  {
   "cell_type": "code",
   "execution_count": 92,
   "metadata": {},
   "outputs": [],
   "source": [
    "drum_loop_comp_L  = convolve(drum_loop[:, 0], shifted[0, :])\n",
    "drum_loop_comp_R  = convolve(drum_loop[:, 1], shifted[1, :])\n",
    "\n",
    "drum_loop_comp = np.append([drum_loop_comp_L], [drum_loop_comp_R], axis = 0)"
   ]
  },
  {
   "cell_type": "code",
   "execution_count": 93,
   "metadata": {},
   "outputs": [
    {
     "name": "stderr",
     "output_type": "stream",
     "text": [
      "/var/folders/q_/_sb8ml5x6px7zxlxs9cnf9jc0000gn/T/ipykernel_49179/336898539.py:2: ComplexWarning: Casting complex values to real discards the imaginary part\n",
      "  drum_loop_comp = drum_loop_comp.astype('float32')\n"
     ]
    }
   ],
   "source": [
    "drum_loop_comp = drum_loop_comp.transpose()\n",
    "drum_loop_comp = drum_loop_comp.astype('float32')"
   ]
  },
  {
   "cell_type": "code",
   "execution_count": 107,
   "metadata": {},
   "outputs": [],
   "source": [
    "play_sound(drum_loop_comp/2, drum_fs)"
   ]
  },
  {
   "cell_type": "code",
   "execution_count": 99,
   "metadata": {},
   "outputs": [],
   "source": [
    "sw, fs = convert_audio_to_numpy_array(f\"../sounds/input/sweep_ableton.wav\")"
   ]
  },
  {
   "cell_type": "code",
   "execution_count": 36,
   "metadata": {},
   "outputs": [],
   "source": [
    "play_sound(sw, fs)"
   ]
  },
  {
   "cell_type": "code",
   "execution_count": 38,
   "metadata": {},
   "outputs": [],
   "source": [
    "erbes_comp, fs = convert_audio_to_numpy_array(f\"../HPIRs_Erbes_44100Hz/compensation_filters/hpComp_HD600_1Filter.wav\")"
   ]
  },
  {
   "cell_type": "code",
   "execution_count": 39,
   "metadata": {},
   "outputs": [
    {
     "data": {
      "text/plain": [
       "array([6.604195e-05, 6.604195e-05], dtype=float32)"
      ]
     },
     "execution_count": 39,
     "metadata": {},
     "output_type": "execute_result"
    }
   ],
   "source": [
    "erbes_comp[0, :]"
   ]
  },
  {
   "cell_type": "code",
   "execution_count": 41,
   "metadata": {},
   "outputs": [],
   "source": [
    "erbes_drum_loop_comp_L = convolve(drum_loop[:, 0], erbes_comp[:, 0])\n",
    "erbes_drum_loop_comp_R = convolve(drum_loop[:, 1], erbes_comp[:, 1])\n",
    "\n",
    "erbes_drum_loop_comp = np.append([erbes_drum_loop_comp_L], [erbes_drum_loop_comp_R], axis = 0)"
   ]
  },
  {
   "cell_type": "code",
   "execution_count": 45,
   "metadata": {},
   "outputs": [],
   "source": [
    "erbes_drum_loop_comp = erbes_drum_loop_comp.transpose()"
   ]
  },
  {
   "cell_type": "code",
   "execution_count": 46,
   "metadata": {},
   "outputs": [],
   "source": [
    "play_sound(erbes_drum_loop_comp, fs)"
   ]
  },
  {
   "cell_type": "code",
   "execution_count": null,
   "metadata": {},
   "outputs": [],
   "source": []
  }
 ],
 "metadata": {
  "kernelspec": {
   "display_name": "Python 3.8.8 ('venv': venv)",
   "language": "python",
   "name": "python3"
  },
  "language_info": {
   "codemirror_mode": {
    "name": "ipython",
    "version": 3
   },
   "file_extension": ".py",
   "mimetype": "text/x-python",
   "name": "python",
   "nbconvert_exporter": "python",
   "pygments_lexer": "ipython3",
   "version": "3.8.3"
  },
  "orig_nbformat": 4,
  "vscode": {
   "interpreter": {
    "hash": "427ec8dedc79bd1f7ae1a93cdbd521680c768e6af83d5a1520a37fa2234ce1d6"
   }
  }
 },
 "nbformat": 4,
 "nbformat_minor": 2
}
