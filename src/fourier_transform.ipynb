{
 "cells": [
  {
   "cell_type": "code",
   "execution_count": 84,
   "metadata": {},
   "outputs": [],
   "source": [
    "import numpy as np\n",
    "import sounddevice as sd\n",
    "import soundfile as sf\n",
    "from numpy import ndarray, convolve\n",
    "from numpy.fft import fft, ifft, rfft, hfft\n",
    "from scipy.signal import butter, firwin, firwin2, unit_impulse, sosfilt, kaiserord\n",
    "from shared.record_signal import convert_audio_to_numpy_array, play_sound\n",
    "import matplotlib.pyplot as plt\n",
    "\n",
    "import IPython.display as ipd"
   ]
  },
  {
   "cell_type": "code",
   "execution_count": 2,
   "metadata": {},
   "outputs": [],
   "source": [
    "recording_count = 10\n",
    "fs = 44100"
   ]
  },
  {
   "cell_type": "code",
   "execution_count": 3,
   "metadata": {},
   "outputs": [],
   "source": [
    "hd600_audios = []\n",
    "\n",
    "for i in range(recording_count):\n",
    "    audio, fs = convert_audio_to_numpy_array(f\"../HPIRs_Erbes_44100Hz/Measurements/HD600/pass0{i}.wav\")\n",
    "    hd600_audios.append(audio)"
   ]
  },
  {
   "cell_type": "code",
   "execution_count": 4,
   "metadata": {},
   "outputs": [
    {
     "name": "stdout",
     "output_type": "stream",
     "text": [
      "Number of Input steps:\t 17640\n"
     ]
    }
   ],
   "source": [
    "n_input = hd600_audios[0].shape[0]\n",
    "print('Number of Input steps:\\t', n_input)"
   ]
  },
  {
   "cell_type": "code",
   "execution_count": 5,
   "metadata": {},
   "outputs": [],
   "source": [
    "hd600_fft = []\n",
    "\n",
    "for audio in hd600_audios:\n",
    "    y_l = audio[:, 0]\n",
    "    y_r = audio[:, 1]\n",
    "    Y_L = fft(y_l)\n",
    "    Y_R = fft(y_r)\n",
    "    Y_fft = np.append([Y_L], [Y_R], axis = 0)\n",
    "    Y_fft = Y_fft.transpose()\n",
    "    hd600_fft.append(Y_fft)"
   ]
  },
  {
   "cell_type": "code",
   "execution_count": 6,
   "metadata": {},
   "outputs": [
    {
     "name": "stdout",
     "output_type": "stream",
     "text": [
      "Number of output points:\t\t 17640\n",
      "Number of output points (one-sided):\t 8821\n"
     ]
    }
   ],
   "source": [
    "n_output = hd600_fft[0].shape[0]\n",
    "print('Number of output points:\\t\\t', n_output)\n",
    "n_output_one_sided = int(n_output / 2 + 1)\n",
    "print(\"Number of output points (one-sided):\\t\", n_output_one_sided)"
   ]
  },
  {
   "cell_type": "code",
   "execution_count": 7,
   "metadata": {},
   "outputs": [],
   "source": [
    "hd600_fft_mean = []\n",
    "Y_L_fft_sum = np.empty([n_output])\n",
    "Y_R_fft_sum = np.empty([n_output])\n",
    "\n",
    "for Y in hd600_fft:\n",
    "    Y_L_fft_sum = Y_L_fft_sum + Y[:, 0]\n",
    "    Y_R_fft_sum = Y_R_fft_sum + Y[:, 1]\n",
    "\n",
    "Y_L_complex_mean = Y_L_fft_sum / recording_count\n",
    "Y_R_complex_mean = Y_R_fft_sum / recording_count\n",
    "\n",
    "Y_complex_mean = np.append([Y_L_complex_mean], [Y_R_complex_mean], axis = 0)"
   ]
  },
  {
   "cell_type": "code",
   "execution_count": 8,
   "metadata": {},
   "outputs": [],
   "source": [
    "def viz_spectrum(recording, n, ax1_title, ax2_title, fs=44100):\n",
    "    f_vec = np.linspace(0, fs/2, n)\n",
    "    left_channel = recording[0, :][: n]\n",
    "    right_channel = recording[1, :][: n]\n",
    "\n",
    "    fig, (ax1, ax2) = plt.subplots(1, 2, figsize=(15, 2), sharex=True)\n",
    "\n",
    "    ax1.set_title(ax1_title)\n",
    "    ax2.set_title(ax2_title)\n",
    "\n",
    "    ax1.set_xlabel(\"Frequency [Hz]\")\n",
    "    ax2.set_xlabel(\"Frequency [Hz]\")\n",
    "\n",
    "    ax1.semilogx(f_vec, 20*np.log10(np.abs(left_channel)))\n",
    "    ax2.semilogx(f_vec, 20*np.log10(np.abs(right_channel)))\n",
    "\n",
    "    ax1.set_xlim([20, fs/2])\n",
    "    ax1.set_ylim(-60, 30)\n",
    "    ax2.set_xlim([20, fs/2])\n",
    "    ax2.set_ylim(-60, 30)\n",
    "\n",
    "    fig.show()"
   ]
  },
  {
   "cell_type": "code",
   "execution_count": 9,
   "metadata": {},
   "outputs": [
    {
     "name": "stderr",
     "output_type": "stream",
     "text": [
      "/var/folders/q_/_sb8ml5x6px7zxlxs9cnf9jc0000gn/T/ipykernel_52070/563957011.py:22: UserWarning: Matplotlib is currently using module://matplotlib_inline.backend_inline, which is a non-GUI backend, so cannot show the figure.\n",
      "  fig.show()\n"
     ]
    },
    {
     "data": {
      "image/png": "[encoded data removed]",
      "text/plain": [
       "<Figure size 1080x144 with 2 Axes>"
      ]
     },
     "metadata": {
      "needs_background": "light"
     },
     "output_type": "display_data"
    }
   ],
   "source": [
    "viz_spectrum(Y_complex_mean, n_output_one_sided, 'Recorded Left', 'Recorded Right')"
   ]
  },
  {
   "cell_type": "markdown",
   "metadata": {},
   "source": [
    "### Design Bandpass Filter"
   ]
  },
  {
   "cell_type": "code",
   "execution_count": 44,
   "metadata": {},
   "outputs": [
    {
     "data": {
      "text/plain": [
       "<module 'matplotlib.pyplot' from '/Users/alpargur/Library/Mobile Documents/com~apple~CloudDocs/Uni/Semester-2/VAE/Project/vae-22-project/venv/lib/python3.8/site-packages/matplotlib/pyplot.py'>"
      ]
     },
     "execution_count": 44,
     "metadata": {},
     "output_type": "execute_result"
    },
    {
     "data": {
      "image/png": "[encoded data removed]",
      "text/plain": [
       "<Figure size 432x288 with 1 Axes>"
      ]
     },
     "metadata": {
      "needs_background": "light"
     },
     "output_type": "display_data"
    }
   ],
   "source": [
    "## make fir filter by pushing a dirac through a butterworth SOS (multiple times)\n",
    "\n",
    "# filter paramters\n",
    "high_cut = 20000 \n",
    "low_order = 8\n",
    "low_cut = 20\n",
    "high_order = 8\n",
    "\n",
    "low_pass_filter = high_pass_filter = unit_impulse(n_output)\n",
    "\n",
    "# lowpass\n",
    "sos_low_pass = butter(low_order, high_cut, 'lowpass', fs=fs, output='sos')\n",
    "low_pass_filter = sosfilt(sos_low_pass, low_pass_filter)\n",
    "low_pass_filter = fft(low_pass_filter)\n",
    "\n",
    "# highpass\n",
    "sos_hp = butter(high_order, low_cut, 'highpass', fs=fs, output='sos')\n",
    "high_pass_filter = sosfilt(sos_hp, high_pass_filter)\n",
    "high_pass_filter = fft(high_pass_filter)\n",
    "\n",
    "bandlimit_filter = high_pass_filter * low_pass_filter\n",
    "\n",
    "#plot\n",
    "f_vec = np.linspace(0, fs/2, n_output_one_sided)\n",
    "plt.semilogx(f_vec, 20*np.log10(np.abs(bandlimit_filter[: n_output_one_sided])), color='green')\n",
    "plt.xlim([20, fs/2])\n",
    "plt.ylim([-50, 10])\n",
    "plt\n"
   ]
  },
  {
   "cell_type": "markdown",
   "metadata": {},
   "source": [
    "Design Bandpass Filter with Kaiser Window"
   ]
  },
  {
   "cell_type": "code",
   "execution_count": 236,
   "metadata": {},
   "outputs": [],
   "source": [
    "nyq_rate = fs / 2.0\n",
    "lowcut_freq = 20.0 / nyq_rate\n",
    "highcut_freq =20000.0 / nyq_rate\n",
    "# The desired width of the transition from pass to stop,\n",
    "# relative to the Nyquist rate.  We'll design the filter\n",
    "# with a 5 Hz transition width.\n",
    "width = 5.0/nyq_rate\n",
    "# The desired attenuation in the stop band, in dB.\n",
    "ripple_db = 60.0\n",
    "# Compute the order and Kaiser parameter for the FIR filter.\n",
    "N, beta = kaiserord(ripple_db, width)\n",
    "# The cutoff frequency of the filter.\n",
    "cutoff_hz = 20.0\n",
    "\n",
    "beta_kaiser = .1102*(ripple_db-8.7);\n"
   ]
  },
  {
   "cell_type": "code",
   "execution_count": 265,
   "metadata": {},
   "outputs": [],
   "source": [
    "taps = firwin(n_output+1, [lowcut_freq, highcut_freq], window=('kaiser', beta_kaiser), pass_zero='bandpass')\n",
    "\n",
    "TAPS = fft(taps, n_output)"
   ]
  },
  {
   "cell_type": "code",
   "execution_count": 266,
   "metadata": {},
   "outputs": [
    {
     "data": {
      "text/plain": [
       "array([0.00039975+0.00000000e+00j, 0.00039696-6.99013940e-19j,\n",
       "       0.00038481+4.98690648e-19j, ..., 0.00034741-3.86115826e-18j,\n",
       "       0.00038481-1.31878316e-17j, 0.00039696+5.85900646e-17j])"
      ]
     },
     "execution_count": 266,
     "metadata": {},
     "output_type": "execute_result"
    }
   ],
   "source": [
    "TAPS[:]"
   ]
  },
  {
   "cell_type": "markdown",
   "metadata": {},
   "source": [
    "Apply Bandpass Filter to L|R channels"
   ]
  },
  {
   "cell_type": "code",
   "execution_count": 268,
   "metadata": {},
   "outputs": [],
   "source": [
    "Y_L_bandpassed = bandlimit_filter * Y_complex_mean[0]\n",
    "Y_R_bandpassed = bandlimit_filter * Y_complex_mean[1]\n",
    "Y_bandpassed = np.append([Y_L_bandpassed], [Y_R_bandpassed], axis = 0)"
   ]
  },
  {
   "cell_type": "code",
   "execution_count": 372,
   "metadata": {},
   "outputs": [],
   "source": [
    "Y_L_bandpassed_kaiser = TAPS * Y_complex_mean[0]\n",
    "Y_R_bandpassed_kaiser = TAPS * Y_complex_mean[1]\n",
    "Y_bandpassed_kaiser = np.append([Y_L_bandpassed_kaiser], [Y_R_bandpassed_kaiser], axis = 0)"
   ]
  },
  {
   "cell_type": "markdown",
   "metadata": {},
   "source": [
    "Visualize Bandpassed Recording"
   ]
  },
  {
   "cell_type": "code",
   "execution_count": 269,
   "metadata": {},
   "outputs": [
    {
     "name": "stderr",
     "output_type": "stream",
     "text": [
      "/var/folders/q_/_sb8ml5x6px7zxlxs9cnf9jc0000gn/T/ipykernel_52070/563957011.py:22: UserWarning: Matplotlib is currently using module://matplotlib_inline.backend_inline, which is a non-GUI backend, so cannot show the figure.\n",
      "  fig.show()\n"
     ]
    },
    {
     "data": {
      "image/png": "[encoded data removed]",
      "text/plain": [
       "<Figure size 1080x144 with 2 Axes>"
      ]
     },
     "metadata": {
      "needs_background": "light"
     },
     "output_type": "display_data"
    }
   ],
   "source": [
    "viz_spectrum(Y_bandpassed, n_output_one_sided, 'Bandpassed Left', 'Bandpassed Right')"
   ]
  },
  {
   "cell_type": "code",
   "execution_count": 373,
   "metadata": {},
   "outputs": [
    {
     "name": "stderr",
     "output_type": "stream",
     "text": [
      "/var/folders/q_/_sb8ml5x6px7zxlxs9cnf9jc0000gn/T/ipykernel_52070/563957011.py:22: UserWarning: Matplotlib is currently using module://matplotlib_inline.backend_inline, which is a non-GUI backend, so cannot show the figure.\n",
      "  fig.show()\n"
     ]
    },
    {
     "data": {
      "image/png": "[encoded data removed]",
      "text/plain": [
       "<Figure size 1080x144 with 2 Axes>"
      ]
     },
     "metadata": {
      "needs_background": "light"
     },
     "output_type": "display_data"
    }
   ],
   "source": [
    "viz_spectrum(Y_bandpassed_kaiser, n_output_one_sided, 'Bandpassed Left', 'Bandpassed Right')"
   ]
  },
  {
   "cell_type": "markdown",
   "metadata": {},
   "source": [
    "### Design Regularisation Filter"
   ]
  },
  {
   "cell_type": "code",
   "execution_count": 270,
   "metadata": {},
   "outputs": [],
   "source": [
    "taps = 51\n",
    "freqs = [0, 0.2, 0.6, 1]\n",
    "gain = np.array([-20, -20, 0, 0]).astype(float)\n",
    "linear_gain = 10**(gain/20)\n",
    "linear_gain[-1] = 0"
   ]
  },
  {
   "cell_type": "code",
   "execution_count": 271,
   "metadata": {},
   "outputs": [],
   "source": [
    "b = firwin2(taps, freqs, linear_gain, window=('kaiser', 8))"
   ]
  },
  {
   "cell_type": "code",
   "execution_count": 272,
   "metadata": {},
   "outputs": [],
   "source": [
    "B = fft(b, n_output)"
   ]
  },
  {
   "cell_type": "code",
   "execution_count": 273,
   "metadata": {},
   "outputs": [
    {
     "data": {
      "text/plain": [
       "[<matplotlib.lines.Line2D at 0x7fe0f4c3d8e0>]"
      ]
     },
     "execution_count": 273,
     "metadata": {},
     "output_type": "execute_result"
    },
    {
     "data": {
      "image/png": "[encoded data removed]",
      "text/plain": [
       "<Figure size 432x288 with 1 Axes>"
      ]
     },
     "metadata": {
      "needs_background": "light"
     },
     "output_type": "display_data"
    }
   ],
   "source": [
    "plt.plot(b)"
   ]
  },
  {
   "cell_type": "markdown",
   "metadata": {},
   "source": [
    "### Calculate Inverse Filter in Frequency Domain"
   ]
  },
  {
   "cell_type": "markdown",
   "metadata": {},
   "source": [
    "$hc = [H^{T}H + \\beta B^{T}B] * H^{T}d$\n",
    "- $hc$ -> convolution matrice of measured transfer function\n",
    "- $H$ -> convolution matrice of measured regularisation filter\n",
    "- $B$ -> signal vector \n",
    "- $d$ -> signal vector (latter denoting the delayed IR of target bandpass filter)\n",
    "- $\\beta$ -> weighting regularisation filter\n",
    "\n",
    "**Important Note**\n",
    "\n",
    "$\\beta$ has the value of 0.1."
   ]
  },
  {
   "cell_type": "code",
   "execution_count": null,
   "metadata": {},
   "outputs": [],
   "source": [
    "beta = 0.4"
   ]
  },
  {
   "cell_type": "code",
   "execution_count": 368,
   "metadata": {},
   "outputs": [],
   "source": [
    "# normal bandpass filter\n",
    "Hc_L = bandlimit_filter.transpose() * np.conj(Y_complex_mean[0]).transpose() / \\\n",
    "    (Y_complex_mean[0].transpose() * np.conj(Y_complex_mean[0]) + beta * B.transpose() * np.conj(B.transpose()))\n",
    "Hc_R = bandlimit_filter.transpose() * np.conj(Y_complex_mean[1]).transpose() / \\\n",
    "    (Y_complex_mean[1].transpose() * np.conj(Y_complex_mean[1]) + beta * B.transpose() * np.conj(B.transpose()))\n",
    "\n",
    "Y_inversed = np.append([Hc_L], [Hc_R], axis = 0)"
   ]
  },
  {
   "cell_type": "code",
   "execution_count": 369,
   "metadata": {},
   "outputs": [],
   "source": [
    "# bandpass filter with kaiser windowing\n",
    "Hc_L_kaiser = TAPS.transpose() * np.conj(Y_complex_mean[0]).transpose() / \\\n",
    "    (Y_complex_mean[0].transpose() * np.conj(Y_complex_mean[0]) + beta * B.transpose() * np.conj(B.transpose()))\n",
    "Hc_R_kaiser = TAPS.transpose() * np.conj(Y_complex_mean[1]).transpose() / \\\n",
    "    (Y_complex_mean[1].transpose() * np.conj(Y_complex_mean[1]) + beta * B.transpose() * np.conj(B.transpose()))\n",
    "\n",
    "Y_inversed_kaiser = np.append([Hc_L_kaiser], [Hc_R_kaiser], axis = 0)"
   ]
  },
  {
   "cell_type": "markdown",
   "metadata": {},
   "source": [
    "Visualize Signal Processed with Compensation Filter"
   ]
  },
  {
   "cell_type": "code",
   "execution_count": 370,
   "metadata": {},
   "outputs": [
    {
     "name": "stderr",
     "output_type": "stream",
     "text": [
      "/var/folders/q_/_sb8ml5x6px7zxlxs9cnf9jc0000gn/T/ipykernel_52070/563957011.py:22: UserWarning: Matplotlib is currently using module://matplotlib_inline.backend_inline, which is a non-GUI backend, so cannot show the figure.\n",
      "  fig.show()\n"
     ]
    },
    {
     "data": {
      "image/png": "[encoded data removed]",
      "text/plain": [
       "<Figure size 1080x144 with 2 Axes>"
      ]
     },
     "metadata": {
      "needs_background": "light"
     },
     "output_type": "display_data"
    }
   ],
   "source": [
    "viz_spectrum(Y_inversed, n_output_one_sided, 'Inversed Signal Left', 'Inversed Signal Right')"
   ]
  },
  {
   "cell_type": "code",
   "execution_count": 371,
   "metadata": {},
   "outputs": [
    {
     "name": "stderr",
     "output_type": "stream",
     "text": [
      "/var/folders/q_/_sb8ml5x6px7zxlxs9cnf9jc0000gn/T/ipykernel_52070/563957011.py:22: UserWarning: Matplotlib is currently using module://matplotlib_inline.backend_inline, which is a non-GUI backend, so cannot show the figure.\n",
      "  fig.show()\n"
     ]
    },
    {
     "data": {
      "image/png": "[encoded data removed]",
      "text/plain": [
       "<Figure size 1080x144 with 2 Axes>"
      ]
     },
     "metadata": {
      "needs_background": "light"
     },
     "output_type": "display_data"
    }
   ],
   "source": [
    "viz_spectrum(Y_inversed_kaiser, n_output_one_sided, 'Inversed Signal Left', 'Inversed Signal Right')"
   ]
  },
  {
   "cell_type": "markdown",
   "metadata": {},
   "source": [
    "Transfer Back to Time Domain"
   ]
  },
  {
   "cell_type": "code",
   "execution_count": 304,
   "metadata": {},
   "outputs": [],
   "source": [
    "hc_l = ifft(Hc_L)\n",
    "hc_r = ifft(Hc_R)\n",
    "hc_compensated = np.append([hc_l], [hc_r], axis=0)"
   ]
  },
  {
   "cell_type": "code",
   "execution_count": 374,
   "metadata": {},
   "outputs": [],
   "source": [
    "def viz_sound(recording, n, title, ax1_title, ax2_title, fs=44100):\n",
    "    t_vec = np.arange(0, n) / fs\n",
    "    left_channel = recording[0, :]\n",
    "    right_channel = recording[1, :]\n",
    "\n",
    "    fig, ((ax1, ax2)) = plt.subplots(1, 2, figsize=(15, 6), sharex='row', sharey='row')\n",
    "    \n",
    "\n",
    "    ax1.set_title(ax1_title)\n",
    "    ax1.set_xlabel('Seconds')\n",
    "    ax1.set_ylabel(\"Amplitude\")\n",
    "\n",
    "\n",
    "    ax2.set_title(ax2_title)\n",
    "    ax2.set_xlabel('Seconds')\n",
    "    ax2.set_ylabel(\"Amplitude\")\n",
    "\n",
    "    ax1.plot(t_vec, left_channel)\n",
    "    ax2.plot(t_vec, right_channel)\n",
    "\n",
    "    #ax1.set_xlim([0.0, 0.005])\n",
    "    #ax1.set_ylim([-1.8, 1.0])\n",
    "    #ax2.set_xlim([0.0, 0.005])\n",
    "    #ax2.set_ylim([-1.8, 1.0])\n",
    "\n",
    "    fig.suptitle(title, fontsize=16)\n",
    "\n",
    "    fig.show()"
   ]
  },
  {
   "cell_type": "code",
   "execution_count": 375,
   "metadata": {},
   "outputs": [
    {
     "name": "stderr",
     "output_type": "stream",
     "text": [
      "/Users/alpargur/Library/Mobile Documents/com~apple~CloudDocs/Uni/Semester-2/VAE/Project/vae-22-project/venv/lib/python3.8/site-packages/matplotlib/cbook/__init__.py:1298: ComplexWarning: Casting complex values to real discards the imaginary part\n",
      "  return np.asarray(x, float)\n",
      "/var/folders/q_/_sb8ml5x6px7zxlxs9cnf9jc0000gn/T/ipykernel_52070/2868790366.py:28: UserWarning: Matplotlib is currently using module://matplotlib_inline.backend_inline, which is a non-GUI backend, so cannot show the figure.\n",
      "  fig.show()\n"
     ]
    },
    {
     "data": {
      "image/png": "[encoded data removed]",
      "text/plain": [
       "<Figure size 1080x432 with 2 Axes>"
      ]
     },
     "metadata": {
      "needs_background": "light"
     },
     "output_type": "display_data"
    }
   ],
   "source": [
    "viz_sound(hc_compensated, n_output, 'IR Compensation Filter Result', 'IR Left Channel', 'IR Right Channel')"
   ]
  },
  {
   "cell_type": "markdown",
   "metadata": {},
   "source": [
    "### Shift Signal and Cut Delay"
   ]
  },
  {
   "cell_type": "code",
   "execution_count": 334,
   "metadata": {},
   "outputs": [],
   "source": [
    "shifted = np.roll(hc_compensated, 9000)"
   ]
  },
  {
   "cell_type": "code",
   "execution_count": 318,
   "metadata": {},
   "outputs": [
    {
     "data": {
      "text/plain": [
       "array([2.19327697e-05+2.15209935e-05j, 3.17883782e-05+3.78273777e-07j,\n",
       "       1.17234607e-05+1.60226636e-05j, ...,\n",
       "       2.31427364e-05-2.59432861e-05j, 2.98763669e-05+2.65067179e-05j,\n",
       "       4.20073053e-05-3.18237246e-05j])"
      ]
     },
     "execution_count": 318,
     "metadata": {},
     "output_type": "execute_result"
    }
   ],
   "source": [
    "shifted[1, :]"
   ]
  },
  {
   "cell_type": "code",
   "execution_count": 336,
   "metadata": {},
   "outputs": [],
   "source": [
    "shifted_l = shifted[0, :][: 8000]\n",
    "shifted_r = shifted[1, :][: 8000]\n",
    "\n",
    "shifted = np.append([shifted_l], [shifted_r], axis = 0)"
   ]
  },
  {
   "cell_type": "code",
   "execution_count": 337,
   "metadata": {},
   "outputs": [
    {
     "data": {
      "text/plain": [
       "(2, 8000)"
      ]
     },
     "execution_count": 337,
     "metadata": {},
     "output_type": "execute_result"
    }
   ],
   "source": [
    "shifted.shape"
   ]
  },
  {
   "cell_type": "code",
   "execution_count": 343,
   "metadata": {},
   "outputs": [],
   "source": [
    "shifted = shifted.transpose()"
   ]
  },
  {
   "cell_type": "code",
   "execution_count": 344,
   "metadata": {},
   "outputs": [
    {
     "name": "stderr",
     "output_type": "stream",
     "text": [
      "/var/folders/q_/_sb8ml5x6px7zxlxs9cnf9jc0000gn/T/ipykernel_52070/2868790366.py:28: UserWarning: Matplotlib is currently using module://matplotlib_inline.backend_inline, which is a non-GUI backend, so cannot show the figure.\n",
      "  fig.show()\n"
     ]
    },
    {
     "data": {
      "image/png": "[encoded data removed]",
      "text/plain": [
       "<Figure size 1080x432 with 2 Axes>"
      ]
     },
     "metadata": {
      "needs_background": "light"
     },
     "output_type": "display_data"
    }
   ],
   "source": [
    "viz_sound(shifted, 8000, 'IR Compensation Filter Result', 'IR Left Channel', 'IR Right Channel')"
   ]
  },
  {
   "cell_type": "markdown",
   "metadata": {},
   "source": [
    "### Import a drum loop"
   ]
  },
  {
   "cell_type": "code",
   "execution_count": 345,
   "metadata": {},
   "outputs": [],
   "source": [
    "drum_loop, drum_fs = convert_audio_to_numpy_array(f\"../sounds/loops/drum_loop_128_bpm.wav\")"
   ]
  },
  {
   "cell_type": "code",
   "execution_count": 346,
   "metadata": {},
   "outputs": [
    {
     "data": {
      "text/plain": [
       "array([0.00186157, 0.00415039], dtype=float32)"
      ]
     },
     "execution_count": 346,
     "metadata": {},
     "output_type": "execute_result"
    }
   ],
   "source": [
    "drum_loop[0, :]"
   ]
  },
  {
   "cell_type": "markdown",
   "metadata": {},
   "source": [
    "Use Compensation Filter"
   ]
  },
  {
   "cell_type": "code",
   "execution_count": 347,
   "metadata": {},
   "outputs": [],
   "source": [
    "drum_loop_comp_L  = convolve(drum_loop[:, 0], shifted[0, :])\n",
    "drum_loop_comp_R  = convolve(drum_loop[:, 1], shifted[1, :])\n",
    "\n",
    "drum_loop_comp = np.append([drum_loop_comp_L], [drum_loop_comp_R], axis = 0)"
   ]
  },
  {
   "cell_type": "code",
   "execution_count": 348,
   "metadata": {},
   "outputs": [
    {
     "name": "stderr",
     "output_type": "stream",
     "text": [
      "/var/folders/q_/_sb8ml5x6px7zxlxs9cnf9jc0000gn/T/ipykernel_52070/336898539.py:2: ComplexWarning: Casting complex values to real discards the imaginary part\n",
      "  drum_loop_comp = drum_loop_comp.astype('float32')\n"
     ]
    }
   ],
   "source": [
    "drum_loop_comp = drum_loop_comp.transpose()\n",
    "drum_loop_comp = drum_loop_comp.astype('float32')"
   ]
  },
  {
   "cell_type": "markdown",
   "metadata": {},
   "source": [
    "Use Erbes Filter"
   ]
  },
  {
   "cell_type": "code",
   "execution_count": 349,
   "metadata": {},
   "outputs": [],
   "source": [
    "erbes_comp, fs = convert_audio_to_numpy_array(f\"../HPIRs_Erbes_44100Hz/compensation_filters/hpComp_HD600_1Filter.wav\")"
   ]
  },
  {
   "cell_type": "code",
   "execution_count": 350,
   "metadata": {},
   "outputs": [
    {
     "data": {
      "text/plain": [
       "array([6.604195e-05, 6.604195e-05], dtype=float32)"
      ]
     },
     "execution_count": 350,
     "metadata": {},
     "output_type": "execute_result"
    }
   ],
   "source": [
    "erbes_comp[0, :]"
   ]
  },
  {
   "cell_type": "code",
   "execution_count": 351,
   "metadata": {},
   "outputs": [],
   "source": [
    "erbes_drum_loop_comp_L = convolve(drum_loop[:, 0], erbes_comp[:, 0])\n",
    "erbes_drum_loop_comp_R = convolve(drum_loop[:, 1], erbes_comp[:, 1])\n",
    "\n",
    "erbes_drum_loop_comp = np.append([erbes_drum_loop_comp_L], [erbes_drum_loop_comp_R], axis = 0)"
   ]
  },
  {
   "cell_type": "code",
   "execution_count": 352,
   "metadata": {},
   "outputs": [],
   "source": [
    "erbes_drum_loop_comp = erbes_drum_loop_comp.transpose()"
   ]
  },
  {
   "cell_type": "code",
   "execution_count": 300,
   "metadata": {},
   "outputs": [],
   "source": [
    "# original audio\n",
    "play_sound(drum_loop, drum_fs)"
   ]
  },
  {
   "cell_type": "code",
   "execution_count": 360,
   "metadata": {},
   "outputs": [],
   "source": [
    "# audio with compensation filter\n",
    "play_sound(drum_loop_comp/2, drum_fs)"
   ]
  },
  {
   "cell_type": "code",
   "execution_count": 361,
   "metadata": {},
   "outputs": [],
   "source": [
    "# audio with erbes filter\n",
    "play_sound(erbes_drum_loop_comp, fs)"
   ]
  },
  {
   "cell_type": "code",
   "execution_count": null,
   "metadata": {},
   "outputs": [],
   "source": []
  }
 ],
 "metadata": {
  "kernelspec": {
   "display_name": "Python 3.8.8 ('venv': venv)",
   "language": "python",
   "name": "python3"
  },
  "language_info": {
   "codemirror_mode": {
    "name": "ipython",
    "version": 3
   },
   "file_extension": ".py",
   "mimetype": "text/x-python",
   "name": "python",
   "nbconvert_exporter": "python",
   "pygments_lexer": "ipython3",
   "version": "3.8.3"
  },
  "orig_nbformat": 4,
  "vscode": {
   "interpreter": {
    "hash": "427ec8dedc79bd1f7ae1a93cdbd521680c768e6af83d5a1520a37fa2234ce1d6"
   }
  }
 },
 "nbformat": 4,
 "nbformat_minor": 2
}
