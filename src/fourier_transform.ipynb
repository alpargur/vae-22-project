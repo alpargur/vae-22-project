{
 "cells": [
  {
   "cell_type": "code",
   "execution_count": 1,
   "metadata": {},
   "outputs": [],
   "source": [
    "import numpy as np\n",
    "import sounddevice as sd\n",
    "import soundfile as sf\n",
    "from numpy import ndarray\n",
    "from numpy.fft import fft, ifft, rfft, hfft\n",
    "from scipy.signal import butter, lfilter, freqz, firwin2\n",
    "from shared.record_signal import convert_audio_to_numpy_array\n",
    "import matplotlib.pyplot as plt"
   ]
  },
  {
   "cell_type": "code",
   "execution_count": 2,
   "metadata": {},
   "outputs": [],
   "source": [
    "recording_count = 10\n",
    "fs = 44100"
   ]
  },
  {
   "cell_type": "code",
   "execution_count": 3,
   "metadata": {},
   "outputs": [],
   "source": [
    "hd600_audios = []\n",
    "\n",
    "for i in range(10):\n",
    "    audio, fs = convert_audio_to_numpy_array(f\"../HPIRs_Erbes_44100Hz/Measurements/HD600/pass0{i}.wav\")\n",
    "    hd600_audios.append(audio)"
   ]
  },
  {
   "cell_type": "code",
   "execution_count": 4,
   "metadata": {},
   "outputs": [
    {
     "name": "stdout",
     "output_type": "stream",
     "text": [
      "Number of Input steps:\t 17640\n"
     ]
    }
   ],
   "source": [
    "n_input = hd600_audios[0].shape[0]\n",
    "print('Number of Input steps:\\t', n_input)"
   ]
  },
  {
   "cell_type": "code",
   "execution_count": 5,
   "metadata": {},
   "outputs": [],
   "source": [
    "hd600_fft = []\n",
    "\n",
    "for audio in hd600_audios:\n",
    "    y_l = audio[:, 0]\n",
    "    y_r = audio[:, 1]\n",
    "    Y_L = fft(y_l)\n",
    "    Y_R = fft(y_r)\n",
    "    Y_fft = np.append([Y_L], [Y_R], axis = 0)\n",
    "    Y_fft = Y_fft.transpose()\n",
    "    hd600_fft.append(Y_fft)"
   ]
  },
  {
   "cell_type": "code",
   "execution_count": 6,
   "metadata": {},
   "outputs": [
    {
     "name": "stdout",
     "output_type": "stream",
     "text": [
      "Number of output points:\t\t 17640\n",
      "Number of output points (one-sided):\t 8821\n"
     ]
    }
   ],
   "source": [
    "n_output = hd600_fft[0].shape[0]\n",
    "print('Number of output points:\\t\\t', n_output)\n",
    "n_output_one_sided = int(n_output / 2 + 1)\n",
    "print(\"Number of output points (one-sided):\\t\", n_output_one_sided)"
   ]
  },
  {
   "cell_type": "code",
   "execution_count": 7,
   "metadata": {},
   "outputs": [],
   "source": [
    "hd600_fft_mean = []\n",
    "Y_L_fft_sum = np.empty([n_output])\n",
    "Y_R_fft_sum = np.empty([n_output])\n",
    "\n",
    "for fft in hd600_fft:\n",
    "    Y_L_fft_sum = Y_L_fft_sum + fft[:, 0]\n",
    "    Y_R_fft_sum = Y_R_fft_sum + fft[:, 1]\n",
    "\n",
    "Y_L_complex_mean = Y_L_fft_sum / recording_count\n",
    "Y_R_complex_mean = Y_R_fft_sum / recording_count\n",
    "\n",
    "Y_complex_mean = np.append([Y_L_complex_mean], [Y_R_complex_mean], axis = 0)"
   ]
  },
  {
   "cell_type": "code",
   "execution_count": 8,
   "metadata": {},
   "outputs": [
    {
     "data": {
      "text/plain": [
       "(20, 22050.0)"
      ]
     },
     "execution_count": 8,
     "metadata": {},
     "output_type": "execute_result"
    },
    {
     "data": {
      "image/png": "[encoded data removed]",
      "text/plain": [
       "<Figure size 1080x144 with 2 Axes>"
      ]
     },
     "metadata": {
      "needs_background": "light"
     },
     "output_type": "display_data"
    }
   ],
   "source": [
    "f_vec = np.linspace(0, fs/2, n_output_one_sided)\n",
    "fig, (ax1, ax2) = plt.subplots(1, 2, figsize=(15, 2), sharex=True)\n",
    "\n",
    "ax1.set_title('Recorded Left')\n",
    "ax1.set_xlabel(\"Frequency [Hz]\")\n",
    "\n",
    "ax2.set_title('Recorded Right')\n",
    "ax2.set_xlabel(\"Frequency [Hz]\")\n",
    "\n",
    "# plot outpit without the mirror spectrum\n",
    "ax1.semilogx(f_vec, 20*np.log10(np.abs(Y_L_complex_mean[:n_output_one_sided])))\n",
    "ax2.semilogx(f_vec, 20*np.log10(np.abs(Y_R_complex_mean[:n_output_one_sided])))\n",
    "\n",
    "ax1.set_xlim([20, fs/2])"
   ]
  },
  {
   "cell_type": "markdown",
   "metadata": {},
   "source": [
    "Design Bandpass Filter"
   ]
  },
  {
   "cell_type": "code",
   "execution_count": null,
   "metadata": {},
   "outputs": [],
   "source": [
    "low_cut = 200\n",
    "high_cut = 18000\n",
    "filter_order = 8"
   ]
  },
  {
   "cell_type": "code",
   "execution_count": null,
   "metadata": {},
   "outputs": [],
   "source": [
    "def butter_bandpass(low_cut, high_cut, order=5, fs=44100):\n",
    "    return butter(order, [low_cut, high_cut], fs=fs, btype='band')\n"
   ]
  },
  {
   "cell_type": "code",
   "execution_count": null,
   "metadata": {},
   "outputs": [],
   "source": [
    "def butter_bandpass_filter(data, low_cut, high_cut, order, fs):\n",
    "    b, a = butter_bandpass(low_cut, high_cut, order, fs)\n",
    "    filter  = lfilter(b, a, data)"
   ]
  },
  {
   "cell_type": "code",
   "execution_count": null,
   "metadata": {},
   "outputs": [],
   "source": [
    "plt.figure(1)\n",
    "plt.clf()\n",
    "for order in [3, 6, 9]:\n",
    "    b, a = butter_bandpass(low_cut, high_cut, order, fs)\n",
    "    w, h = freqz(b, a, fs=fs, worN=2000)\n",
    "    plt.plot(w, abs(h), label=\"order = %d\" % order)\n",
    "\n",
    "plt.plot([0, 0.5 * fs], [np.sqrt(0.5), np.sqrt(0.5)],\n",
    "            '--', label='sqrt(0.5)')\n",
    "plt.xlabel('Frequency (Hz)')\n",
    "plt.ylabel('Gain')\n",
    "plt.grid(True)\n",
    "plt.legend(loc='best')"
   ]
  },
  {
   "cell_type": "markdown",
   "metadata": {},
   "source": [
    "Apply Bandpass Filter to L|R channels"
   ]
  },
  {
   "cell_type": "code",
   "execution_count": null,
   "metadata": {},
   "outputs": [],
   "source": [
    "Y_L_bandpassed = butter_bandpass_filter(Y_complex_mean[0], low_cut, high_cut, 8, fs)\n",
    "Y_R_bandpassed = butter_bandpass_filter(Y_complex_mean[1], low_cut, high_cut, 8, fs)\n",
    "\n",
    "Y_bandpassed = np.append([Y_L_bandpassed], [Y_R_bandpassed], axis = 0)"
   ]
  },
  {
   "cell_type": "markdown",
   "metadata": {},
   "source": [
    "Design Regularisation Filter"
   ]
  },
  {
   "cell_type": "code",
   "execution_count": null,
   "metadata": {},
   "outputs": [],
   "source": [
    "taps = 50\n",
    "freqs = [0, 0.2, 0.6, 1]\n",
    "gain = np.array([-20, -20, 0, 0]).astype(float)\n",
    "linear_gain = 10**(gain/20)\n",
    "linear_gain[-1] = 0"
   ]
  },
  {
   "cell_type": "code",
   "execution_count": null,
   "metadata": {},
   "outputs": [],
   "source": [
    "linear_gain"
   ]
  },
  {
   "cell_type": "code",
   "execution_count": null,
   "metadata": {},
   "outputs": [],
   "source": [
    "b = firwin2(taps, freqs, linear_gain)\n",
    "B = fft(b)"
   ]
  },
  {
   "cell_type": "code",
   "execution_count": null,
   "metadata": {},
   "outputs": [],
   "source": [
    "Y_L_regularised = lfilter(b, 1,)"
   ]
  },
  {
   "cell_type": "code",
   "execution_count": null,
   "metadata": {},
   "outputs": [],
   "source": [
    "Y_bandpassed"
   ]
  },
  {
   "cell_type": "code",
   "execution_count": null,
   "metadata": {},
   "outputs": [],
   "source": []
  }
 ],
 "metadata": {
  "kernelspec": {
   "display_name": "Python 3.8.8 ('venv': venv)",
   "language": "python",
   "name": "python3"
  },
  "language_info": {
   "codemirror_mode": {
    "name": "ipython",
    "version": 3
   },
   "file_extension": ".py",
   "mimetype": "text/x-python",
   "name": "python",
   "nbconvert_exporter": "python",
   "pygments_lexer": "ipython3",
   "version": "3.8.8"
  },
  "orig_nbformat": 4,
  "vscode": {
   "interpreter": {
    "hash": "427ec8dedc79bd1f7ae1a93cdbd521680c768e6af83d5a1520a37fa2234ce1d6"
   }
  }
 },
 "nbformat": 4,
 "nbformat_minor": 2
}
