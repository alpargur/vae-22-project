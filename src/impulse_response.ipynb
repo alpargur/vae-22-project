{
 "cells": [
  {
   "cell_type": "markdown",
   "metadata": {},
   "source": [
    "# Virtual Acoustic Environments Spring 2022\n",
    "## Project 9: Headphone Equalization\n",
    "**Author: Alpar Gür**\n",
    "\n",
    "**Supervisor: David Bau**\n",
    "\n",
    "**Professor: Christoph Pörschmann**\n",
    "\n",
    "---\n",
    "This notebook shall be used to extract and save impulse responses from recorded sweep sound files."
   ]
  },
  {
   "cell_type": "code",
   "execution_count": 3,
   "metadata": {},
   "outputs": [],
   "source": [
    "# import packages\n",
    "import numpy as np\n",
    "import sounddevice as sd\n",
    "import soundfile as sf\n",
    "from scipy.io.wavfile import write\n",
    "import matplotlib.pyplot as plt\n",
    "from time import sleep\n",
    "from numpy import ndarray\n",
    "from collections import defaultdict\n",
    "\n",
    "from shared.record_signal import convert_audio_to_numpy_array, play_sound"
   ]
  },
  {
   "cell_type": "code",
   "execution_count": 2,
   "metadata": {},
   "outputs": [],
   "source": [
    "# define global parameters\n",
    "fs = 44100\n",
    "nyquist = fs / 2.0\n",
    "recording_count = 10\n",
    "headphones = ['Beats_Detox']"
   ]
  },
  {
   "cell_type": "code",
   "execution_count": 9,
   "metadata": {},
   "outputs": [],
   "source": [
    "headphone_sweep_sounds = defaultdict(dict)\n",
    "\n",
    "for headphone in headphones:\n",
    "    key = headphone\n",
    "    for i in range(recording_count):\n",
    "        sweep, fs = convert_audio_to_numpy_array(f\"../sounds/sweeps/{headphone}/pass0{i}.wav\")\n",
    "        headphone_sweep_sounds[key][i] = sweep\n",
    "    headphone_sweep_sounds[key]['fs'] = fs"
   ]
  },
  {
   "cell_type": "code",
   "execution_count": 14,
   "metadata": {},
   "outputs": [
    {
     "data": {
      "text/plain": [
       "(96673, 2)"
      ]
     },
     "execution_count": 14,
     "metadata": {},
     "output_type": "execute_result"
    }
   ],
   "source": [
    "headphone_sweep_sounds['Beats_Detox'][0].shape"
   ]
  },
  {
   "cell_type": "code",
   "execution_count": null,
   "metadata": {},
   "outputs": [],
   "source": []
  }
 ],
 "metadata": {
  "kernelspec": {
   "display_name": "Python 3.8.3 ('venv': venv)",
   "language": "python",
   "name": "python3"
  },
  "language_info": {
   "codemirror_mode": {
    "name": "ipython",
    "version": 3
   },
   "file_extension": ".py",
   "mimetype": "text/x-python",
   "name": "python",
   "nbconvert_exporter": "python",
   "pygments_lexer": "ipython3",
   "version": "3.8.3"
  },
  "orig_nbformat": 4,
  "vscode": {
   "interpreter": {
    "hash": "427ec8dedc79bd1f7ae1a93cdbd521680c768e6af83d5a1520a37fa2234ce1d6"
   }
  }
 },
 "nbformat": 4,
 "nbformat_minor": 2
}
